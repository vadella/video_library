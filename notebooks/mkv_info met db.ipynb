{
 "cells": [
  {
   "cell_type": "code",
   "execution_count": null,
   "metadata": {
    "collapsed": true
   },
   "outputs": [],
   "source": [
    "%load_ext autoreload"
   ]
  },
  {
   "cell_type": "code",
   "execution_count": 2,
   "metadata": {
    "collapsed": true
   },
   "outputs": [],
   "source": [
    "%autoreload 2\n",
    "from video_library.video_info_db import MkvFileDB"
   ]
  },
  {
   "cell_type": "code",
   "execution_count": 3,
   "metadata": {
    "collapsed": true
   },
   "outputs": [],
   "source": [
    "from pathlib import Path\n",
    "import itertools\n",
    "# from sqlalchemy import Base"
   ]
  },
  {
   "cell_type": "code",
   "execution_count": 4,
   "metadata": {
    "collapsed": true
   },
   "outputs": [],
   "source": [
    "from sqlalchemy import create_engine"
   ]
  },
  {
   "cell_type": "code",
   "execution_count": 5,
   "metadata": {
    "collapsed": true
   },
   "outputs": [],
   "source": [
    "engine = create_engine('sqlite:///file2.db', echo=True)"
   ]
  },
  {
   "cell_type": "code",
   "execution_count": 6,
   "metadata": {
    "collapsed": true
   },
   "outputs": [],
   "source": [
    "from sqlalchemy.orm import sessionmaker"
   ]
  },
  {
   "cell_type": "code",
   "execution_count": 7,
   "metadata": {
    "collapsed": true
   },
   "outputs": [],
   "source": [
    "data_dir = Path('data')\n",
    "filename = data_dir.joinpath('Blackadder - S01E01 - The Foretelling.mkv')"
   ]
  },
  {
   "cell_type": "code",
   "execution_count": 8,
   "metadata": {
    "collapsed": true
   },
   "outputs": [],
   "source": [
    "file_dir1 = Path(r'K:\\Library_Bluray\\films')\n",
    "file_dir2 = Path(r'K:\\Library_BR_SD\\films')\n",
    "file_dir3 = Path(r'K:\\Library_dvd\\films')\n",
    "\n",
    "movie_files = list(itertools.chain(file_dir1.glob('**/*.mkv'), file_dir2.glob('**/*.mkv'), file_dir3.glob('**/*.mkv')))"
   ]
  },
  {
   "cell_type": "code",
   "execution_count": 9,
   "metadata": {
    "collapsed": true
   },
   "outputs": [],
   "source": [
    "file_dir1 = Path(r'K:\\Library_Bluray\\series')\n",
    "file_dir2 = Path(r'K:\\Library_BR_SD\\series')\n",
    "file_dir3 = Path(r'K:\\Library_dvd\\series')\n",
    "file_dir4 = Path(r'K:\\Rips\\Series\\Breaking Bad')\n",
    "\n",
    "series_files = list(itertools.chain(file_dir1.glob('**/*.mkv'), file_dir2.glob('**/*.mkv'), file_dir3.glob('**/*.mkv')))\n",
    "series_files = list(file_dir4.glob('**/*.mkv'))"
   ]
  },
  {
   "cell_type": "code",
   "execution_count": 10,
   "metadata": {},
   "outputs": [],
   "source": [
    "for file in series_files:\n",
    "    if 'Monty' in file.name:\n",
    "        print(file) "
   ]
  },
  {
   "cell_type": "code",
   "execution_count": 11,
   "metadata": {},
   "outputs": [
    {
     "name": "stdout",
     "output_type": "stream",
     "text": [
      "2017-10-08 17:18:43,424 INFO sqlalchemy.engine.base.Engine SELECT CAST('test plain returns' AS VARCHAR(60)) AS anon_1\n",
      "2017-10-08 17:18:43,432 INFO sqlalchemy.engine.base.Engine ()\n",
      "2017-10-08 17:18:43,436 INFO sqlalchemy.engine.base.Engine SELECT CAST('test unicode returns' AS VARCHAR(60)) AS anon_1\n",
      "2017-10-08 17:18:43,437 INFO sqlalchemy.engine.base.Engine ()\n",
      "2017-10-08 17:18:43,441 INFO sqlalchemy.engine.base.Engine PRAGMA table_info(\"mkv_file\")\n",
      "2017-10-08 17:18:43,443 INFO sqlalchemy.engine.base.Engine ()\n",
      "2017-10-08 17:18:43,448 INFO sqlalchemy.engine.base.Engine PRAGMA table_info(\"stream_mkv\")\n",
      "2017-10-08 17:18:43,450 INFO sqlalchemy.engine.base.Engine ()\n",
      "2017-10-08 17:18:43,452 INFO sqlalchemy.engine.base.Engine PRAGMA table_info(\"stream_info\")\n",
      "2017-10-08 17:18:43,454 INFO sqlalchemy.engine.base.Engine ()\n",
      "2017-10-08 17:18:43,457 INFO sqlalchemy.engine.base.Engine PRAGMA table_info(\"video_stream_info\")\n",
      "2017-10-08 17:18:43,459 INFO sqlalchemy.engine.base.Engine ()\n",
      "2017-10-08 17:18:43,461 INFO sqlalchemy.engine.base.Engine PRAGMA table_info(\"audio_stream_info\")\n",
      "2017-10-08 17:18:43,463 INFO sqlalchemy.engine.base.Engine ()\n",
      "2017-10-08 17:18:43,466 INFO sqlalchemy.engine.base.Engine PRAGMA table_info(\"subtitle_stream_info\")\n",
      "2017-10-08 17:18:43,468 INFO sqlalchemy.engine.base.Engine ()\n"
     ]
    }
   ],
   "source": [
    "MkvFileDB.metadata.create_all(engine)"
   ]
  },
  {
   "cell_type": "code",
   "execution_count": 12,
   "metadata": {
    "collapsed": true
   },
   "outputs": [],
   "source": [
    "Session = sessionmaker(bind=engine)\n",
    "session = Session()"
   ]
  },
  {
   "cell_type": "code",
   "execution_count": 7,
   "metadata": {
    "scrolled": true
   },
   "outputs": [
    {
     "name": "stdout",
     "output_type": "stream",
     "text": [
      "K:\\Library_Bluray\\films\\2001 - A Space Odyssey (1968)\\2001 - A Space Odyssey (1968).mkv\n",
      "            video: 02:28:51, 4.9 GB, ['<VideoStreamInfo(h264, (1920 x 864))>']\n",
      "            audio: ['<AudioStreamInfo(eng, ac3, 6ch, 5.1(side), 640kb/s)>']\n",
      "            sub: ['<SubtitleStreamInfo(eng, 02:28:51)>', '<SubtitleStreamInfo(dut, 02:28:51)>']\n",
      "K:\\Library_Bluray\\films\\Batman Begins (2005)\\Batman Begins (2005).mkv\n",
      "            video: 02:20:03, 15.1 GB, ['<VideoStreamInfo(vc1, (1920 x 1080))>']\n",
      "            audio: ['<AudioStreamInfo(eng, ac3, 6ch, 5.1(side), 640kb/s)>']\n",
      "            sub: ['<SubtitleStreamInfo(eng, 02:20:03)>', '<SubtitleStreamInfo(dut, 02:20:03)>']\n",
      "K:\\Library_Bluray\\films\\Cars (2006)\\Cars (2006).mkv\n",
      "            video: 01:56:36, 4.4 GB, ['<VideoStreamInfo(h264, (1920 x 802))>']\n",
      "            audio: ['<AudioStreamInfo(dut, aac, 2ch, stereo, -1kb/s)>', '<AudioStreamInfo(eng, aac, 2ch, stereo, -1kb/s)>']\n",
      "            sub: ['<SubtitleStreamInfo(dut, 01:56:36)>', '<SubtitleStreamInfo(eng, 01:56:36)>']\n",
      "K:\\Library_Bluray\\films\\Eyes Wide Shut (1999)\\Eyes Wide Shut (1999).mkv\n",
      "            video: 02:39:01, 13.8 GB, ['<VideoStreamInfo(h264, (1920 x 1072))>']\n",
      "            audio: ['<AudioStreamInfo(eng, ac3, 6ch, 5.1(side), 640kb/s)>']\n",
      "            sub: ['<SubtitleStreamInfo(eng, 02:39:01)>', '<SubtitleStreamInfo(dut, 02:39:01)>']\n",
      "K:\\Library_Bluray\\films\\Full Metal Jacket (1987)\\Full Metal Jacket (1987).mkv\n",
      "            video: 01:56:30, 9.4 GB, ['<VideoStreamInfo(h264, (1920 x 1080))>']\n",
      "            audio: ['<AudioStreamInfo(eng, ac3, 6ch, 5.1(side), 448kb/s)>']\n",
      "            sub: ['<SubtitleStreamInfo(eng, 01:56:30)>', '<SubtitleStreamInfo(dut, 01:56:30)>']\n",
      "K:\\Library_Bluray\\films\\Ice Age (2002)\\Ice Age (2002).mkv\n",
      "            video: 01:21:05, 3.6 GB, ['<VideoStreamInfo(h264, (1920 x 1040))>']\n",
      "            audio: ['<AudioStreamInfo(dut, aac, 2ch, stereo, -1kb/s)>', '<AudioStreamInfo(eng, aac, 2ch, stereo, -1kb/s)>']\n",
      "            sub: ['<SubtitleStreamInfo(dut, 01:21:05)>', '<SubtitleStreamInfo(eng, 01:21:05)>']\n",
      "K:\\Library_Bluray\\films\\Ice Age 2 - The Meltdown (2006)\\Ice Age 2 - The Meltdown (2006).mkv\n",
      "            video: 01:30:38, 5.2 GB, ['<VideoStreamInfo(h264, (1920 x 1040))>']\n",
      "            audio: ['<AudioStreamInfo(dut, aac, 2ch, stereo, -1kb/s)>', '<AudioStreamInfo(eng, aac, 2ch, stereo, -1kb/s)>']\n",
      "            sub: ['<SubtitleStreamInfo(dut, 01:30:38)>', '<SubtitleStreamInfo(eng, 01:30:38)>']\n",
      "K:\\Library_Bluray\\films\\Ice Age Collectie\\Ice Age 3 - Dawn of the Dinosaurs (2009)\\Ice Age 3 - Dawn of the Dinosaurs (2009).mkv\n",
      "            video: 01:34:03, 6.4 GB, ['<VideoStreamInfo(h264, (1920 x 1040))>']\n",
      "            audio: ['<AudioStreamInfo(dut, aac, 2ch, stereo, -1kb/s)>', '<AudioStreamInfo(eng, aac, 2ch, stereo, -1kb/s)>']\n",
      "            sub: ['<SubtitleStreamInfo(dut, 01:34:03)>', '<SubtitleStreamInfo(eng, 01:34:03)>']\n",
      "K:\\Library_Bluray\\films\\Ice Age Collectie\\Ice Age 4 - Continental Drift (2012)\\Ice Age 4 - Continental Drift (2012).mkv\n",
      "            video: 01:27:45, 5.7 GB, ['<VideoStreamInfo(h264, (1920 x 800))>']\n",
      "            audio: ['<AudioStreamInfo(dut, aac, 2ch, stereo, -1kb/s)>', '<AudioStreamInfo(eng, aac, 2ch, stereo, -1kb/s)>']\n",
      "            sub: ['<SubtitleStreamInfo(dut, 01:27:45)>', '<SubtitleStreamInfo(eng, 01:27:45)>']\n",
      "K:\\Library_Bluray\\films\\Madagascar (2005)\\Madagascar (2005).mkv\n",
      "            video: 01:25:58, 3.4 GB, ['<VideoStreamInfo(h264, (1904 x 1072))>']\n",
      "            audio: ['<AudioStreamInfo(unknown_lang, aac, 2ch, stereo, -1kb/s)>', '<AudioStreamInfo(unknown_lang, aac, 2ch, stereo, -1kb/s)>']\n",
      "            sub: ['<SubtitleStreamInfo(unknown_lang, 01:25:58)>', '<SubtitleStreamInfo(unknown_lang, 01:25:58)>']\n",
      "K:\\Library_Bluray\\films\\Madagascar - Escape 2 Africa (2008)\\Madagascar - Escape 2 Africa (2008).mkv\n",
      "            video: 01:29:24, 6.1 GB, ['<VideoStreamInfo(h264, (1920 x 1080))>']\n",
      "            audio: ['<AudioStreamInfo(dut, aac, 2ch, stereo, -1kb/s)>', '<AudioStreamInfo(eng, aac, 2ch, stereo, -1kb/s)>']\n",
      "            sub: ['<SubtitleStreamInfo(dut, 01:29:24)>', '<SubtitleStreamInfo(eng, 01:29:24)>']\n",
      "K:\\Library_Bluray\\films\\Monsters, Inc. (2001)\\Monsters, Inc. (2001).mkv\n",
      "            video: 01:32:16, 4.7 GB, ['<VideoStreamInfo(h264, (1920 x 1040))>']\n",
      "            audio: ['<AudioStreamInfo(dut, aac, 2ch, stereo, -1kb/s)>', '<AudioStreamInfo(eng, ac3, 2ch, stereo, 224kb/s)>']\n",
      "            sub: ['<SubtitleStreamInfo(dut, 01:32:16)>', '<SubtitleStreamInfo(eng, 01:32:16)>']\n",
      "K:\\Library_Bluray\\films\\Radiohead - TKOL -  Live From the Basement (2011)\\Radiohead - TKOL -  Live From the Basement (2011).mkv\n",
      "            video: 01:00:47, 14.5 GB, ['<VideoStreamInfo(h264, (1920 x 1080))>']\n",
      "            audio: ['<AudioStreamInfo(eng, ac3, 6ch, 5.1(side), 640kb/s)>', '<AudioStreamInfo(eng, ac3, 2ch, stereo, 224kb/s)>']\n",
      "            sub: []\n",
      "K:\\Library_Bluray\\films\\Ratatouille (2007)\\Ratatouille (2007).mkv\n",
      "            video: 01:50:33, 2.0 GB, ['<VideoStreamInfo(h264, (1920 x 802))>']\n",
      "            audio: ['<AudioStreamInfo(dut, aac, 2ch, stereo, -1kb/s)>', '<AudioStreamInfo(eng, aac, 2ch, stereo, -1kb/s)>']\n",
      "            sub: ['<SubtitleStreamInfo(dut, 01:50:33)>', '<SubtitleStreamInfo(eng, 01:50:33)>']\n",
      "K:\\Library_Bluray\\films\\The Great Gatsby (2013)\\The Great Gatsby (2013).mkv\n",
      "            video: 02:22:06, 7.7 GB, ['<VideoStreamInfo(h264, (1920 x 800))>']\n",
      "            audio: ['<AudioStreamInfo(eng, ac3, 6ch, 5.1(side), 640kb/s)>']\n",
      "            sub: ['<SubtitleStreamInfo(eng, 02:22:06)>', '<SubtitleStreamInfo(dut, 02:22:06)>']\n",
      "K:\\Library_Bluray\\films\\The Jungle Book (1967)\\The Jungle Book (1967).mkv\n",
      "            video: 01:18:27, 3.6 GB, ['<VideoStreamInfo(h264, (1880 x 1080))>']\n",
      "            audio: ['<AudioStreamInfo(dut, aac, 2ch, stereo, -1kb/s)>', '<AudioStreamInfo(eng, aac, 2ch, stereo, -1kb/s)>']\n",
      "            sub: ['<SubtitleStreamInfo(dut, 01:18:27)>', '<SubtitleStreamInfo(eng, 01:18:27)>']\n",
      "K:\\Library_Bluray\\films\\The Shining (1980)\\The Shining (1980).mkv\n",
      "            video: 01:59:38, 8.7 GB, ['<VideoStreamInfo(h264, (1920 x 1080))>']\n",
      "            audio: ['<AudioStreamInfo(eng, ac3, 6ch, 5.1(side), 640kb/s)>']\n",
      "            sub: ['<SubtitleStreamInfo(eng, 01:59:38)>', '<SubtitleStreamInfo(eng, 01:59:38)>', '<SubtitleStreamInfo(dut, 01:59:38)>']\n",
      "K:\\Library_BR_SD\\films\\Wall·e (2008).mkv\n",
      "            video: 01:33:20, 0.7 GB, ['<VideoStreamInfo(h264, (720 x 432))>']\n",
      "            audio: ['<AudioStreamInfo(eng, ac3, 2ch, stereo, 224kb/s)>', '<AudioStreamInfo(dut, aac, 2ch, stereo, -1kb/s)>']\n",
      "            sub: ['<SubtitleStreamInfo(eng, 01:33:20)>', '<SubtitleStreamInfo(dut, 00:00:00)>']\n",
      "K:\\Library_BR_SD\\films\\Ice Age (2002)\\Ice Age (2002).mkv\n",
      "            video: 01:21:05, 0.5 GB, ['<VideoStreamInfo(h264, (720 x 392))>']\n",
      "            audio: ['<AudioStreamInfo(eng, aac, 2ch, stereo, -1kb/s)>', '<AudioStreamInfo(dut, aac, 2ch, stereo, -1kb/s)>']\n",
      "            sub: ['<SubtitleStreamInfo(eng, 01:21:05)>', '<SubtitleStreamInfo(dut, 01:21:05)>']\n",
      "K:\\Library_BR_SD\\films\\Madagascar (2005)\\Madagascar (2005).mkv\n",
      "            video: 01:25:58, 0.6 GB, ['<VideoStreamInfo(h264, (720 x 408))>']\n",
      "            audio: ['<AudioStreamInfo(eng, aac, 2ch, stereo, -1kb/s)>', '<AudioStreamInfo(dut, aac, 2ch, stereo, -1kb/s)>']\n",
      "            sub: ['<SubtitleStreamInfo(eng, 01:25:58)>', '<SubtitleStreamInfo(dut, 01:25:58)>']\n",
      "K:\\Library_BR_SD\\films\\Madagascar - Escape 2 Africa (2008)\\Madagascar - Escape 2 Africa (2008).mkv\n",
      "            video: 01:29:24, 0.7 GB, ['<VideoStreamInfo(h264, (720 x 408))>']\n",
      "            audio: ['<AudioStreamInfo(eng, aac, 2ch, stereo, -1kb/s)>', '<AudioStreamInfo(dut, aac, 2ch, stereo, -1kb/s)>']\n",
      "            sub: ['<SubtitleStreamInfo(eng, 01:29:24)>', '<SubtitleStreamInfo(dut, 01:29:24)>']\n",
      "K:\\Library_BR_SD\\films\\The Jungle Book (1967)\\The Jungle Book (1967).mkv\n",
      "            video: 01:18:27, 0.6 GB, ['<VideoStreamInfo(h264, (720 x 416))>']\n",
      "            audio: ['<AudioStreamInfo(eng, aac, 2ch, stereo, -1kb/s)>', '<AudioStreamInfo(dut, aac, 2ch, stereo, -1kb/s)>']\n",
      "            sub: ['<SubtitleStreamInfo(eng, 01:18:27)>', '<SubtitleStreamInfo(dut, 01:18:27)>']\n",
      "K:\\Library_dvd\\films\\3 -10 to Yuma (2007)\\3 -10 to Yuma (2007).mkv\n",
      "            video: 01:57:21, 1.8 GB, ['<VideoStreamInfo(h264, (720 x 432))>']\n",
      "            audio: ['<AudioStreamInfo(eng, dts, 6ch, 5.1(side), 768kb/s)>', '<AudioStreamInfo(eng, ac3, 2ch, stereo, 224kb/s)>']\n",
      "            sub: ['<SubtitleStreamInfo(dut, 01:57:21)>']\n",
      "K:\\Library_dvd\\films\\300 (2006)\\300 (2006).mkv\n",
      "            video: 01:51:50, 2.5 GB, ['<VideoStreamInfo(h264, (720 x 432))>']\n",
      "            audio: ['<AudioStreamInfo(eng, ac3, 6ch, 5.1(side), 640kb/s)>', '<AudioStreamInfo(eng, ac3, 2ch, stereo, 224kb/s)>']\n",
      "            sub: ['<SubtitleStreamInfo(eng, 01:51:50)>', '<SubtitleStreamInfo(eng, 01:51:50)>', '<SubtitleStreamInfo(dut, 01:51:50)>']\n",
      "K:\\Library_dvd\\films\\9 (2009)\\9 (2009).mkv\n",
      "            video: 01:16:03, 1.1 GB, ['<VideoStreamInfo(h264, (720 x 544))>']\n",
      "            audio: ['<AudioStreamInfo(eng, ac3, 6ch, 5.1(side), 640kb/s)>', '<AudioStreamInfo(eng, ac3, 2ch, stereo, 224kb/s)>']\n",
      "            sub: ['<SubtitleStreamInfo(eng, 01:16:03)>', '<SubtitleStreamInfo(eng, 01:16:03)>', '<SubtitleStreamInfo(dut, 01:16:03)>']\n",
      "K:\\Library_dvd\\films\\A Fistful of Dollars (1964)\\A Fistful of Dollars (1964).mkv\n",
      "            video: 01:28:36, 2.2 GB, ['<VideoStreamInfo(h264, (720 x 448))>']\n",
      "            audio: ['<AudioStreamInfo(ita, ac3, 6ch, 5.1(side), 448kb/s)>', '<AudioStreamInfo(ita, aac, 2ch, stereo, -1kb/s)>']\n",
      "            sub: ['<SubtitleStreamInfo(dut, 01:28:36)>']\n",
      "K:\\Library_dvd\\films\\American Gangster (2007)\\American Gangster (2007).mkv\n",
      "            video: 02:48:37, 1.9 GB, ['<VideoStreamInfo(h264, (720 x 560))>']\n",
      "            audio: ['<AudioStreamInfo(eng, ac3, 6ch, 5.1(side), 384kb/s)>', '<AudioStreamInfo(eng, aac, 2ch, stereo, -1kb/s)>']\n",
      "            sub: ['<SubtitleStreamInfo(eng, 02:48:37)>', '<SubtitleStreamInfo(eng, 00:00:00)>', '<SubtitleStreamInfo(dut, 00:00:00)>']\n",
      "K:\\Library_dvd\\films\\Any Way the Wind Blows (2003)\\Any Way the Wind Blows (2003).mkv\n",
      "            video: 02:01:51, 1.7 GB, ['<VideoStreamInfo(h264, (720 x 448))>']\n",
      "            audio: ['<AudioStreamInfo(dut, ac3, 6ch, 5.1(side), 640kb/s)>', '<AudioStreamInfo(dut, ac3, 2ch, stereo, 224kb/s)>']\n",
      "            sub: ['<SubtitleStreamInfo(dut, 02:01:51)>', '<SubtitleStreamInfo(dut, 02:01:51)>', '<SubtitleStreamInfo(eng, 02:01:51)>']\n",
      "K:\\Library_dvd\\films\\Apocalypse Now Redux (1979)\\Apocalypse Now Redux (1979).mkv\n",
      "            video: 03:13:59, 3.7 GB, ['<VideoStreamInfo(h264, (720 x 512))>']\n",
      "            audio: ['<AudioStreamInfo(eng, ac3, 6ch, 5.1(side), 640kb/s)>', '<AudioStreamInfo(eng, ac3, 2ch, stereo, 224kb/s)>']\n",
      "            sub: ['<SubtitleStreamInfo(dut, 03:13:59)>']\n",
      "K:\\Library_dvd\\films\\Ben-Hur (1959)\\Ben-Hur (1959).mkv\n",
      "            video: 03:33:21, 3.6 GB, ['<VideoStreamInfo(h264, (720 x 376))>']\n",
      "            audio: ['<AudioStreamInfo(eng, ac3, 6ch, 5.1(side), 384kb/s)>', '<AudioStreamInfo(eng, aac, 2ch, stereo, -1kb/s)>']\n",
      "            sub: ['<SubtitleStreamInfo(eng, 03:33:21)>', '<SubtitleStreamInfo(dut, 03:33:21)>']\n",
      "K:\\Library_dvd\\films\\Big Fish (2003)\\Big Fish (2003).mkv\n",
      "            video: 02:00:01, 2.1 GB, ['<VideoStreamInfo(h264, (720 x 544))>']\n",
      "            audio: ['<AudioStreamInfo(eng, ac3, 6ch, 5.1(side), 640kb/s)>', '<AudioStreamInfo(eng, ac3, 2ch, stereo, 224kb/s)>']\n",
      "            sub: ['<SubtitleStreamInfo(eng, 02:00:01)>', '<SubtitleStreamInfo(dut, 02:00:01)>']\n",
      "K:\\Library_dvd\\films\\Black Swan (2010)\\Black Swan (2010).mkv\n",
      "            video: 01:43:43, 2.1 GB, ['<VideoStreamInfo(h264, (720 x 432))>']\n",
      "            audio: ['<AudioStreamInfo(eng, ac3, 6ch, 5.1(side), 640kb/s)>', '<AudioStreamInfo(eng, ac3, 2ch, stereo, 224kb/s)>']\n",
      "            sub: ['<SubtitleStreamInfo(eng, 00:00:00)>', '<SubtitleStreamInfo(dut, 00:00:00)>']\n",
      "K:\\Library_dvd\\films\\Blade Runner (1982)\\Blade Runner (1982).mkv\n",
      "            video: 01:51:48, 1.3 GB, ['<VideoStreamInfo(h264, (720 x 416))>']\n",
      "            audio: ['<AudioStreamInfo(eng, ac3, 2ch, stereo, 224kb/s)>', '<AudioStreamInfo(eng, ac3, 2ch, stereo, 224kb/s)>']\n",
      "            sub: ['<SubtitleStreamInfo(eng, 01:51:48)>', '<SubtitleStreamInfo(eng, 01:51:48)>', '<SubtitleStreamInfo(dut, 01:51:48)>']\n",
      "K:\\Library_dvd\\films\\Carlito's Way (1993)\\Carlito's Way (1993).mkv\n",
      "            video: 02:18:07, 2.1 GB, ['<VideoStreamInfo(h264, (720 x 432))>']\n",
      "            audio: ['<AudioStreamInfo(eng, ac3, 6ch, 5.1(side), 640kb/s)>', '<AudioStreamInfo(eng, ac3, 2ch, stereo, 224kb/s)>']\n",
      "            sub: ['<SubtitleStreamInfo(eng, 02:18:07)>', '<SubtitleStreamInfo(eng, 02:18:07)>', '<SubtitleStreamInfo(dut, 02:18:07)>']\n",
      "K:\\Library_dvd\\films\\Casino (1995)\\Casino (1995).mkv\n",
      "            video: 02:50:55, 1.8 GB, ['<VideoStreamInfo(h264, (720 x 320))>']\n",
      "            audio: ['<AudioStreamInfo(eng, ac3, 6ch, 5.1(side), 384kb/s)>', '<AudioStreamInfo(eng, ac3, 2ch, stereo, 224kb/s)>']\n",
      "            sub: ['<SubtitleStreamInfo(eng, 02:50:55)>', '<SubtitleStreamInfo(eng, 02:50:55)>', '<SubtitleStreamInfo(dut, 02:50:55)>']\n",
      "K:\\Library_dvd\\films\\Crouching Tiger, Hidden Dragon (2000)\\Crouching Tiger, Hidden Dragon (2000).mkv\n",
      "            video: 01:55:08, 1.6 GB, ['<VideoStreamInfo(h264, (720 x 432))>']\n",
      "            audio: ['<AudioStreamInfo(chi, ac3, 6ch, 5.1(side), 448kb/s)>', '<AudioStreamInfo(chi, ac3, 2ch, stereo, 224kb/s)>']\n",
      "            sub: ['<SubtitleStreamInfo(eng, 01:55:08)>', '<SubtitleStreamInfo(dut, 01:55:08)>']\n",
      "K:\\Library_dvd\\films\\Dagen zonder lief (2007)\\Dagen zonder lief (2007).mkv\n",
      "            video: 01:40:46, 3.8 GB, ['<VideoStreamInfo(h264, (720 x 560))>']\n",
      "            audio: ['<AudioStreamInfo(dut, ac3, 6ch, 5.1(side), 640kb/s)>', '<AudioStreamInfo(dut, ac3, 2ch, stereo, 224kb/s)>']\n",
      "            sub: ['<SubtitleStreamInfo(eng, 01:40:46)>']\n",
      "K:\\Library_dvd\\films\\Dirty Dancing 2 - Havana Nights (2004)\\Dirty Dancing 2 - Havana Nights (2004).mkv\n",
      "            video: 01:22:38, 1.4 GB, ['<VideoStreamInfo(h264, (720 x 560))>']\n",
      "            audio: ['<AudioStreamInfo(eng, ac3, 6ch, 5.1(side), 640kb/s)>', '<AudioStreamInfo(eng, ac3, 2ch, stereo, 224kb/s)>']\n",
      "            sub: ['<SubtitleStreamInfo(dut, 01:22:38)>']\n",
      "K:\\Library_dvd\\films\\Django Unchained (2012)\\Django Unchained (2012).mkv\n",
      "            video: 02:38:37, 2.1 GB, ['<VideoStreamInfo(h264, (720 x 432))>']\n",
      "            audio: ['<AudioStreamInfo(unknown_lang, ac3, 6ch, 5.1(side), 448kb/s)>', '<AudioStreamInfo(unknown_lang, aac, 2ch, stereo, -1kb/s)>']\n",
      "            sub: ['<SubtitleStreamInfo(unknown_lang, 02:38:37)>', '<SubtitleStreamInfo(unknown_lang, 02:38:37)>']\n",
      "K:\\Library_dvd\\films\\Drive (2011)\\Drive (2011).mkv\n",
      "            video: 01:36:10, 1.2 GB, ['<VideoStreamInfo(h264, (720 x 432))>']\n",
      "            audio: ['<AudioStreamInfo(eng, ac3, 6ch, 5.1(side), 640kb/s)>', '<AudioStreamInfo(eng, ac3, 2ch, stereo, 224kb/s)>']\n",
      "            sub: ['<SubtitleStreamInfo(dut, 01:36:10)>', '<SubtitleStreamInfo(fre, 01:36:10)>']\n",
      "K:\\Library_dvd\\films\\Elephant (2003)\\Elephant (2003).mkv\n",
      "            video: 01:18:03, 1.4 GB, ['<VideoStreamInfo(h264, (720 x 576))>']\n",
      "            audio: ['<AudioStreamInfo(eng, ac3, 6ch, 5.1(side), 640kb/s)>', '<AudioStreamInfo(eng, ac3, 2ch, stereo, 224kb/s)>']\n",
      "            sub: ['<SubtitleStreamInfo(dut, 01:18:03)>']\n",
      "K:\\Library_dvd\\films\\Finding Nemo Collection\\Finding Dory (2016)\\Finding Dory (2016).mkv\n",
      "            video: 01:33:05, 1.1 GB, ['<VideoStreamInfo(h264, (720 x 570))>']\n",
      "            audio: ['<AudioStreamInfo(dut, aac, 2ch, stereo, -1kb/s)>', '<AudioStreamInfo(eng, aac, 2ch, stereo, -1kb/s)>']\n",
      "            sub: ['<SubtitleStreamInfo(dut, 00:00:00)>', '<SubtitleStreamInfo(eng, 00:00:00)>']\n",
      "K:\\Library_dvd\\films\\Finding Nemo Collection\\Finding Nemo (2003)\\Finding Nemo (2003).mkv\n",
      "            video: 01:36:26, 2.7 GB, ['<VideoStreamInfo(h264, (720 x 576))>']\n",
      "            audio: ['<AudioStreamInfo(eng, dts, 6ch, 5.1(side), 768kb/s)>', '<AudioStreamInfo(eng, aac, 2ch, stereo, -1kb/s)>', '<AudioStreamInfo(dut, ac3, 6ch, 5.1(side), 384kb/s)>', '<AudioStreamInfo(dut, aac, 2ch, stereo, -1kb/s)>']\n",
      "            sub: ['<SubtitleStreamInfo(eng, 00:00:00)>', '<SubtitleStreamInfo(dut, 00:00:00)>']\n",
      "K:\\Library_dvd\\films\\Flags of our Fathers (2006)\\Flags of our Fathers (2006).mkv\n",
      "            video: 02:06:22, 1.8 GB, ['<VideoStreamInfo(h264, (720 x 416))>']\n",
      "            audio: ['<AudioStreamInfo(eng, ac3, 6ch, 5.1(side), 384kb/s)>', '<AudioStreamInfo(eng, aac, 2ch, stereo, -1kb/s)>']\n",
      "            sub: ['<SubtitleStreamInfo(eng, 02:06:22)>', '<SubtitleStreamInfo(eng, 02:06:22)>', '<SubtitleStreamInfo(dut, 02:06:22)>']\n",
      "K:\\Library_dvd\\films\\Happy Feet (2006)\\Happy Feet (2006).mkv\n",
      "            video: 01:44:02, 2.8 GB, ['<VideoStreamInfo(h264, (720 x 416))>']\n",
      "            audio: ['<AudioStreamInfo(eng, ac3, 6ch, 5.1(side), 640kb/s)>', '<AudioStreamInfo(eng, ac3, 2ch, stereo, 224kb/s)>', '<AudioStreamInfo(unknown_lang, ac3, 6ch, 5.1(side), 640kb/s)>', '<AudioStreamInfo(unknown_lang, aac, 2ch, stereo, -1kb/s)>']\n",
      "            sub: ['<SubtitleStreamInfo(eng, 01:44:02)>', '<SubtitleStreamInfo(eng, 01:44:02)>', '<SubtitleStreamInfo(dut, 01:44:02)>']\n",
      "K:\\Library_dvd\\films\\House of Flying Daggers (2004)\\House of Flying Daggers (2004).mkv\n",
      "            video: 01:54:23, 2.5 GB, ['<VideoStreamInfo(h264, (720 x 432))>']\n",
      "            audio: ['<AudioStreamInfo(eng, ac3, 6ch, 5.1(side), 640kb/s)>', '<AudioStreamInfo(eng, ac3, 2ch, stereo, 224kb/s)>']\n",
      "            sub: ['<SubtitleStreamInfo(dut, 01:54:23)>']\n",
      "K:\\Library_dvd\\films\\Inception (2010)\\Inception (2010).mkv\n",
      "            video: 02:22:03, 2.0 GB, ['<VideoStreamInfo(h264, (720 x 432))>']\n",
      "            audio: ['<AudioStreamInfo(eng, ac3, 6ch, 5.1(side), 640kb/s)>', '<AudioStreamInfo(eng, ac3, 2ch, stereo, 224kb/s)>']\n",
      "            sub: ['<SubtitleStreamInfo(eng, 02:22:03)>', '<SubtitleStreamInfo(eng, 02:22:03)>', '<SubtitleStreamInfo(dut, 02:22:03)>']\n",
      "K:\\Library_dvd\\films\\Inglourious Basterds (2009)\\Inglourious Basterds (2009).mkv\n",
      "            video: 02:26:36, 1.7 GB, ['<VideoStreamInfo(h264, (720 x 432))>']\n",
      "            audio: ['<AudioStreamInfo(eng, ac3, 6ch, 5.1(side), 640kb/s)>', '<AudioStreamInfo(eng, ac3, 2ch, stereo, 224kb/s)>']\n",
      "            sub: ['<SubtitleStreamInfo(eng, 02:26:36)>', '<SubtitleStreamInfo(eng, 02:26:36)>', '<SubtitleStreamInfo(dut, 02:26:36)>']\n",
      "K:\\Library_dvd\\films\\Inside Out (2015)\\Inside Out (2015).mkv\n",
      "            video: 01:30:46, 1.1 GB, ['<VideoStreamInfo(h264, (720 x 570))>']\n",
      "            audio: ['<AudioStreamInfo(dut, aac, 2ch, stereo, -1kb/s)>', '<AudioStreamInfo(eng, aac, 2ch, stereo, -1kb/s)>']\n",
      "            sub: ['<SubtitleStreamInfo(dut, 00:00:00)>', '<SubtitleStreamInfo(eng, 00:00:00)>']\n",
      "K:\\Library_dvd\\films\\Interstella 5555 - The 5tory of the 5ecret 5tar 5ystem (2003)\\Interstella 5555 - The 5tory of the 5ecret 5tar 5ystem (2003).mkv\n",
      "            video: 01:05:12, 1.1 GB, ['<VideoStreamInfo(h264, (704 x 570))>']\n",
      "            audio: ['<AudioStreamInfo(eng, ac3, 2ch, stereo, 192kb/s)>', '<AudioStreamInfo(eng, dts, 6ch, 5.1(side), 768kb/s)>']\n",
      "            sub: ['<SubtitleStreamInfo(eng, 01:05:12)>', '<SubtitleStreamInfo(eng, 01:05:12)>']\n",
      "K:\\Library_dvd\\films\\Kill Bill - Vol. 1 (2003)\\Kill Bill - Vol. 1 (2003).mkv\n",
      "            video: 01:46:10, 1.7 GB, ['<VideoStreamInfo(h264, (720 x 432))>']\n",
      "            audio: ['<AudioStreamInfo(eng, dts, 6ch, 5.1(side), 768kb/s)>', '<AudioStreamInfo(eng, ac3, 2ch, stereo, 224kb/s)>']\n",
      "            sub: ['<SubtitleStreamInfo(dut, 01:46:10)>']\n",
      "K:\\Library_dvd\\films\\Kill Bill - Vol. 2 (2004)\\Kill Bill - Vol. 2 (2004).mkv\n",
      "            video: 02:11:19, 2.1 GB, ['<VideoStreamInfo(h264, (720 x 432))>']\n",
      "            audio: ['<AudioStreamInfo(eng, dts, 6ch, 5.1(side), 768kb/s)>', '<AudioStreamInfo(eng, ac3, 2ch, stereo, 224kb/s)>']\n",
      "            sub: ['<SubtitleStreamInfo(dut, 02:11:19)>']\n",
      "K:\\Library_dvd\\films\\Magnolia (1999)\\Magnolia (1999).mkv\n",
      "            video: 03:00:52, 2.1 GB, ['<VideoStreamInfo(h264, (720 x 416))>']\n",
      "            audio: ['<AudioStreamInfo(eng, ac3, 2ch, stereo, 320kb/s)>', '<AudioStreamInfo(eng, ac3, 2ch, stereo, 224kb/s)>']\n",
      "            sub: ['<SubtitleStreamInfo(dut, 03:00:52)>']\n",
      "K:\\Library_dvd\\films\\Metropolis (1927)\\Metropolis (1927).mkv\n",
      "            video: 02:24:06, 2.9 GB, ['<VideoStreamInfo(h264, (720 x 592))>']\n",
      "            audio: ['<AudioStreamInfo(eng, ac3, 6ch, 5.1(side), 640kb/s)>', '<AudioStreamInfo(eng, ac3, 2ch, stereo, 224kb/s)>']\n",
      "            sub: ['<SubtitleStreamInfo(dut, 02:24:06)>']\n",
      "K:\\Library_dvd\\films\\Monty Python's Life of Brian (1979)\\Monty Python's Life of Brian (1979).mkv\n",
      "            video: 01:29:52, 2.8 GB, ['<VideoStreamInfo(h264, (720 x 544))>']\n",
      "            audio: ['<AudioStreamInfo(eng, ac3, 6ch, 5.1(side), 640kb/s)>', '<AudioStreamInfo(eng, ac3, 2ch, stereo, 224kb/s)>']\n",
      "            sub: ['<SubtitleStreamInfo(eng, 01:29:52)>', '<SubtitleStreamInfo(dut, 01:29:52)>']\n",
      "K:\\Library_dvd\\films\\Mulholland Drive (2001)\\Mulholland Drive (2001).mkv\n",
      "            video: 02:20:32, 2.2 GB, ['<VideoStreamInfo(h264, (720 x 560))>']\n",
      "            audio: ['<AudioStreamInfo(eng, dts, 6ch, 5.1(side), 768kb/s)>', '<AudioStreamInfo(eng, ac3, 2ch, stereo, 192kb/s)>']\n",
      "            sub: ['<SubtitleStreamInfo(dut, 02:20:32)>']\n",
      "K:\\Library_dvd\\films\\Nosferatu (1922)\\Nosferatu (1922).mkv\n",
      "            video: 01:34:07, 2.1 GB, ['<VideoStreamInfo(h264, (720 x 576))>']\n",
      "            audio: ['<AudioStreamInfo(eng, ac3, 6ch, 5.1(side), 640kb/s)>', '<AudioStreamInfo(eng, ac3, 2ch, stereo, 224kb/s)>']\n",
      "            sub: ['<SubtitleStreamInfo(dut, 01:34:07)>']\n",
      "K:\\Library_dvd\\films\\Once Upon a Time in America (1984)\\Once Upon a Time in America (1984).mkv\n",
      "            video: 03:39:32, 6.8 GB, ['<VideoStreamInfo(h264, (720 x 576))>']\n",
      "            audio: ['<AudioStreamInfo(eng, ac3, 6ch, 5.1(side), 384kb/s)>', '<AudioStreamInfo(eng, aac, 2ch, stereo, -1kb/s)>']\n",
      "            sub: ['<SubtitleStreamInfo(eng, 03:39:32)>', '<SubtitleStreamInfo(dut, 03:39:32)>']\n",
      "K:\\Library_dvd\\films\\Queen Rock Montreal & Live Aid (1981)\\Queen Rock Montreal & Live Aid (1981).mkv\n",
      "            video: 01:35:21, 2.4 GB, ['<VideoStreamInfo(h264, (720 x 576))>']\n",
      "            audio: ['<AudioStreamInfo(eng, dts, 6ch, 5.1(side), 1536kb/s)>', '<AudioStreamInfo(eng, aac, 2ch, stereo, -1kb/s)>']\n",
      "            sub: ['<SubtitleStreamInfo(eng, 01:35:21)>', '<SubtitleStreamInfo(dut, 01:35:21)>', '<SubtitleStreamInfo(eng, 01:35:21)>', '<SubtitleStreamInfo(eng, 01:35:21)>']\n",
      "K:\\Library_dvd\\films\\Radiohead - Meeting People Is Easy (1998)\\Radiohead - Meeting People Is Easy (1998).mkv\n",
      "            video: 01:34:04, 2.3 GB, ['<VideoStreamInfo(h264, (696 x 584))>']\n",
      "            audio: ['<AudioStreamInfo(eng, ac3, 6ch, 5.1(side), 448kb/s)>', '<AudioStreamInfo(eng, ac3, 2ch, stereo, 192kb/s)>']\n",
      "            sub: []\n",
      "K:\\Library_dvd\\films\\Scarface (1983)\\Scarface (1983).mkv\n",
      "            video: 02:42:57, 3.1 GB, ['<VideoStreamInfo(h264, (720 x 432))>']\n",
      "            audio: ['<AudioStreamInfo(eng, ac3, 6ch, 5.1(side), 640kb/s)>', '<AudioStreamInfo(eng, ac3, 2ch, stereo, 224kb/s)>']\n",
      "            sub: ['<SubtitleStreamInfo(eng, 02:42:57)>', '<SubtitleStreamInfo(eng, 02:42:57)>', '<SubtitleStreamInfo(dut, 02:42:57)>']\n",
      "K:\\Library_dvd\\films\\Shakespeare in Love (1998)\\Shakespeare in Love (1998).mkv\n",
      "            video: 01:58:36, 1.9 GB, ['<VideoStreamInfo(h264, (720 x 432))>']\n",
      "            audio: ['<AudioStreamInfo(eng, ac3, 6ch, 5.1(side), 640kb/s)>', '<AudioStreamInfo(eng, ac3, 2ch, stereo, 224kb/s)>']\n",
      "            sub: ['<SubtitleStreamInfo(eng, 01:58:36)>', '<SubtitleStreamInfo(dut, 01:58:36)>']\n",
      "K:\\Library_dvd\\films\\Spring, Summer, Fall, Winter... and Spring (2003)\\Spring, Summer, Fall, Winter... and Spring (2003).mkv\n",
      "            video: 01:38:17, 2.5 GB, ['<VideoStreamInfo(h264, (720 x 560))>']\n",
      "            audio: ['<AudioStreamInfo(kor, ac3, 6ch, 5.1(side), 448kb/s)>', '<AudioStreamInfo(kor, ac3, 2ch, stereo, 192kb/s)>']\n",
      "            sub: ['<SubtitleStreamInfo(dut, 01:38:17)>']\n",
      "K:\\Library_dvd\\films\\Steve + Sky (2004)\\Steve + Sky (2004).mkv\n",
      "            video: 01:37:21, 2.9 GB, ['<VideoStreamInfo(h264, (720 x 560))>']\n",
      "            audio: ['<AudioStreamInfo(dut, ac3, 6ch, 5.1(side), 640kb/s)>', '<AudioStreamInfo(dut, ac3, 2ch, stereo, 224kb/s)>']\n",
      "            sub: ['<SubtitleStreamInfo(dut, 01:37:21)>']\n",
      "K:\\Library_dvd\\films\\Taxi Driver (1976)\\Taxi Driver (1976).mkv\n",
      "            video: 01:49:07, 2.3 GB, ['<VideoStreamInfo(h264, (720 x 544))>']\n",
      "            audio: ['<AudioStreamInfo(eng, ac3, 6ch, 5.1(side), 448kb/s)>', '<AudioStreamInfo(eng, ac3, 2ch, stereo, 224kb/s)>']\n",
      "            sub: ['<SubtitleStreamInfo(eng, 01:49:07)>', '<SubtitleStreamInfo(dut, 01:49:07)>']\n",
      "K:\\Library_dvd\\films\\The Broken Circle Breakdown (2012)\\The Broken Circle Breakdown (2012).mkv\n",
      "            video: 01:37:01, 1.9 GB, ['<VideoStreamInfo(h264, (720 x 576))>']\n",
      "            audio: ['<AudioStreamInfo(eng, ac3, 6ch, 5.1(side), 640kb/s)>', '<AudioStreamInfo(eng, aac, 2ch, stereo, -1kb/s)>']\n",
      "            sub: ['<SubtitleStreamInfo(dut, 01:37:01)>']\n",
      "K:\\Library_dvd\\films\\The Good, the Bad and the Ugly (1966)\\The Good, the Bad and the Ugly (1966).mkv\n",
      "            video: 02:51:21, 3.4 GB, ['<VideoStreamInfo(h264, (720 x 432))>']\n",
      "            audio: ['<AudioStreamInfo(eng, ac3, 6ch, 5.1(side), 448kb/s)>', '<AudioStreamInfo(eng, ac3, 2ch, stereo, 224kb/s)>']\n",
      "            sub: ['<SubtitleStreamInfo(eng, 02:51:21)>', '<SubtitleStreamInfo(dut, 02:51:21)>']\n",
      "K:\\Library_dvd\\films\\The Piano (1993)\\The Piano (1993).mkv\n",
      "            video: 01:55:20, 1.6 GB, ['<VideoStreamInfo(h264, (720 x 560))>']\n",
      "            audio: ['<AudioStreamInfo(eng, ac3, 2ch, stereo, 224kb/s)>', '<AudioStreamInfo(eng, ac3, 2ch, stereo, 224kb/s)>']\n",
      "            sub: ['<SubtitleStreamInfo(dut, 01:55:20)>']\n",
      "K:\\Library_dvd\\films\\The Wolf of Wall Street (2013)\\The Wolf of Wall Street (2013).mkv\n",
      "            video: 02:52:09, 2.1 GB, ['<VideoStreamInfo(h264, (720 x 432))>']\n",
      "            audio: ['<AudioStreamInfo(unknown_lang, ac3, 6ch, 5.1(side), 448kb/s)>', '<AudioStreamInfo(unknown_lang, aac, 2ch, stereo, -1kb/s)>']\n",
      "            sub: ['<SubtitleStreamInfo(unknown_lang, 02:52:09)>']\n",
      "K:\\Library_dvd\\films\\There Will Be Blood (2007)\\There Will Be Blood (2007).mkv\n",
      "            video: 02:31:54, 2.4 GB, ['<VideoStreamInfo(h264, (720 x 432))>']\n",
      "            audio: ['<AudioStreamInfo(eng, ac3, 6ch, 5.1(side), 640kb/s)>', '<AudioStreamInfo(eng, ac3, 2ch, stereo, 224kb/s)>']\n",
      "            sub: ['<SubtitleStreamInfo(eng, 02:31:54)>', '<SubtitleStreamInfo(eng, 00:00:00)>', '<SubtitleStreamInfo(dut, 00:00:00)>']\n",
      "K:\\Library_dvd\\films\\Walk the Line (2005)\\Walk the Line (2005).mkv\n",
      "            video: 02:10:18, 1.9 GB, ['<VideoStreamInfo(h264, (720 x 416))>']\n",
      "            audio: ['<AudioStreamInfo(eng, dts, 6ch, 5.1(side), 768kb/s)>', '<AudioStreamInfo(eng, ac3, 2ch, stereo, 224kb/s)>']\n",
      "            sub: ['<SubtitleStreamInfo(eng, 00:00:00)>', '<SubtitleStreamInfo(dut, 00:00:00)>', '<SubtitleStreamInfo(dut, 00:00:00)>']\n",
      "K:\\Library_dvd\\films\\WALL·E (2008)\\WALL·E (2008).mkv\n",
      "            video: 01:33:20, 2.0 GB, ['<VideoStreamInfo(h264, (720 x 432))>']\n",
      "            audio: ['<AudioStreamInfo(eng, ac3, 6ch, 5.1(side), 640kb/s)>', '<AudioStreamInfo(eng, ac3, 2ch, stereo, 224kb/s)>', '<AudioStreamInfo(dut, ac3, 6ch, 5.1(side), 640kb/s)>', '<AudioStreamInfo(dut, aac, 2ch, stereo, -1kb/s)>']\n",
      "            sub: ['<SubtitleStreamInfo(eng, 01:33:20)>', '<SubtitleStreamInfo(eng, 00:00:00)>', '<SubtitleStreamInfo(dut, 00:00:00)>']\n",
      "K:\\Library_dvd\\films\\Waltz with Bashir (2008)\\Waltz with Bashir (2008).mkv\n",
      "            video: 01:26:41, 1.6 GB, ['<VideoStreamInfo(h264, (720 x 576))>']\n",
      "            audio: ['<AudioStreamInfo(eng, ac3, 6ch, 5.1(side), 640kb/s)>', '<AudioStreamInfo(eng, ac3, 2ch, stereo, 224kb/s)>']\n",
      "            sub: ['<SubtitleStreamInfo(dut, 01:26:41)>']\n"
     ]
    }
   ],
   "source": [
    "for file in movie_files:\n",
    "    m = MkvFileDB(file)    \n",
    "    if len(m.audio) > 1 or any(a.channels > 2 for a in m.audio):\n",
    "        print(m)\n",
    "#     session.add(m)"
   ]
  },
  {
   "cell_type": "code",
   "execution_count": 13,
   "metadata": {
    "scrolled": true
   },
   "outputs": [
    {
     "name": "stdout",
     "output_type": "stream",
     "text": [
      "K:\\Rips\\Series\\Breaking Bad\\Breaking_bad_s1_d1-96.mkv\n",
      "            video: 00:58:06, 6.9 GB, ['<VideoStreamInfo(h264, (1920 x 1080))>']\n",
      "            audio: ['<AudioStreamInfo(eng, aac, 2ch, stereo, -1kb/s)>']\n",
      "            sub: ['<SubtitleStreamInfo(eng, 00:58:06)>']\n",
      "K:\\Rips\\Series\\Breaking Bad\\Breaking_bad_s1_d1-96_preview.mkv\n",
      "            video: 00:00:45, 0.1 GB, ['<VideoStreamInfo(h264, (1920 x 1080))>']\n",
      "            audio: ['<AudioStreamInfo(eng, aac, 2ch, stereo, -1kb/s)>']\n",
      "            sub: ['<SubtitleStreamInfo(eng, 00:00:45)>', '<SubtitleStreamInfo(eng, 00:00:45)>', '<SubtitleStreamInfo(dut, 00:00:45)>', '<SubtitleStreamInfo(eng, 00:00:00)>', '<SubtitleStreamInfo(dut, 00:00:00)>']\n",
      "K:\\Rips\\Series\\Breaking Bad\\Breaking_bad_s1_d1-97.mkv\n",
      "            video: 00:26:35, 3.1 GB, ['<VideoStreamInfo(h264, (1918 x 1080))>']\n",
      "            audio: ['<AudioStreamInfo(eng, aac, 2ch, stereo, -1kb/s)>']\n",
      "            sub: ['<SubtitleStreamInfo(eng, 00:26:35)>']\n",
      "K:\\Rips\\Series\\Breaking Bad\\Breaking_bad_s1_d1-98.mkv\n",
      "            video: 00:48:11, 4.1 GB, ['<VideoStreamInfo(h264, (1916 x 1080))>']\n",
      "            audio: ['<AudioStreamInfo(eng, aac, 2ch, stereo, -1kb/s)>']\n",
      "            sub: ['<SubtitleStreamInfo(eng, 00:48:11)>']\n",
      "K:\\Rips\\Series\\Breaking Bad\\Breaking_bad_s1_d1-99.mkv\n",
      "            video: 00:48:15, 5.0 GB, ['<VideoStreamInfo(h264, (1916 x 1080))>']\n",
      "            audio: ['<AudioStreamInfo(eng, aac, 2ch, stereo, -1kb/s)>']\n",
      "            sub: ['<SubtitleStreamInfo(eng, 00:00:00)>']\n",
      "K:\\Rips\\Series\\Breaking Bad\\Breaking_bad_s1_d2-100.mkv\n",
      "            video: 00:48:11, 6.2 GB, ['<VideoStreamInfo(h264, (1916 x 1080))>']\n",
      "            audio: ['<AudioStreamInfo(eng, aac, 2ch, stereo, -1kb/s)>']\n",
      "            sub: ['<SubtitleStreamInfo(eng, 00:00:00)>']\n",
      "K:\\Rips\\Series\\Breaking Bad\\Breaking_bad_s1_d2-98.mkv\n",
      "            video: 00:48:04, 7.0 GB, ['<VideoStreamInfo(h264, (1920 x 1080))>']\n",
      "            audio: ['<AudioStreamInfo(eng, aac, 2ch, stereo, -1kb/s)>']\n",
      "            sub: ['<SubtitleStreamInfo(eng, 00:48:04)>']\n",
      "K:\\Rips\\Series\\Breaking Bad\\Breaking_bad_s1_d2-99.mkv\n",
      "            video: 00:47:42, 5.8 GB, ['<VideoStreamInfo(h264, (1918 x 1080))>']\n",
      "            audio: ['<AudioStreamInfo(eng, aac, 2ch, stereo, -1kb/s)>']\n",
      "            sub: ['<SubtitleStreamInfo(eng, 00:00:00)>']\n",
      "K:\\Rips\\Series\\Breaking Bad\\Breaking_bad_s2_d1-112.mkv\n",
      "            video: 00:47:15, 5.7 GB, ['<VideoStreamInfo(h264, (1918 x 1080))>']\n",
      "            audio: ['<AudioStreamInfo(eng, aac, 2ch, stereo, -1kb/s)>']\n",
      "            sub: ['<SubtitleStreamInfo(eng, 00:47:15)>']\n",
      "K:\\Rips\\Series\\Breaking Bad\\Breaking_bad_s2_d1-113.mkv\n",
      "            video: 00:47:57, 6.3 GB, ['<VideoStreamInfo(h264, (1916 x 1080))>']\n",
      "            audio: ['<AudioStreamInfo(eng, aac, 2ch, stereo, -1kb/s)>']\n",
      "            sub: ['<SubtitleStreamInfo(eng, 00:47:57)>']\n",
      "K:\\Rips\\Series\\Breaking Bad\\Breaking_bad_s2_d1-114.mkv\n",
      "            video: 00:13:58, 2.2 GB, ['<VideoStreamInfo(h264, (1918 x 1080))>']\n",
      "            audio: ['<AudioStreamInfo(eng, aac, 2ch, stereo, -1kb/s)>']\n",
      "            sub: ['<SubtitleStreamInfo(eng, 00:13:58)>']\n",
      "K:\\Rips\\Series\\Breaking Bad\\Breaking_bad_s2_d1-115.mkv\n",
      "            video: 00:47:24, 6.1 GB, ['<VideoStreamInfo(h264, (1920 x 1080))>']\n",
      "            audio: ['<AudioStreamInfo(eng, aac, 2ch, stereo, -1kb/s)>']\n",
      "            sub: ['<SubtitleStreamInfo(eng, 00:47:24)>']\n",
      "K:\\Rips\\Series\\Breaking Bad\\Breaking_bad_s2_d1-116.mkv\n",
      "            video: 00:47:21, 5.9 GB, ['<VideoStreamInfo(h264, (1920 x 1080))>']\n",
      "            audio: ['<AudioStreamInfo(eng, aac, 2ch, stereo, -1kb/s)>']\n",
      "            sub: ['<SubtitleStreamInfo(eng, 00:47:21)>']\n",
      "K:\\Rips\\Series\\Breaking Bad\\Breaking_bad_s2_d2-109.mkv\n",
      "            video: 00:47:22, 6.4 GB, ['<VideoStreamInfo(h264, (1920 x 1080))>']\n",
      "            audio: ['<AudioStreamInfo(eng, aac, 2ch, stereo, -1kb/s)>']\n",
      "            sub: ['<SubtitleStreamInfo(eng, 00:47:22)>']\n",
      "K:\\Rips\\Series\\Breaking Bad\\Breaking_bad_s2_d2-110.mkv\n",
      "            video: 00:47:21, 6.2 GB, ['<VideoStreamInfo(h264, (1920 x 1080))>']\n",
      "            audio: ['<AudioStreamInfo(eng, aac, 2ch, stereo, -1kb/s)>']\n",
      "            sub: ['<SubtitleStreamInfo(eng, 00:47:21)>']\n",
      "K:\\Rips\\Series\\Breaking Bad\\Breaking_bad_s2_d2-111.mkv\n",
      "            video: 00:47:21, 5.2 GB, ['<VideoStreamInfo(h264, (1920 x 1080))>']\n",
      "            audio: ['<AudioStreamInfo(eng, aac, 2ch, stereo, -1kb/s)>']\n",
      "            sub: ['<SubtitleStreamInfo(eng, 00:47:21)>']\n",
      "K:\\Rips\\Series\\Breaking Bad\\Breaking_bad_s2_d2-112.mkv\n",
      "            video: 00:47:21, 7.2 GB, ['<VideoStreamInfo(h264, (1920 x 1080))>']\n",
      "            audio: ['<AudioStreamInfo(eng, aac, 2ch, stereo, -1kb/s)>']\n",
      "            sub: ['<SubtitleStreamInfo(eng, 00:47:21)>']\n",
      "K:\\Rips\\Series\\Breaking Bad\\Breaking_bad_s2_d3-122.mkv\n",
      "            video: 00:47:22, 6.0 GB, ['<VideoStreamInfo(h264, (1920 x 1080))>']\n",
      "            audio: ['<AudioStreamInfo(eng, aac, 2ch, stereo, -1kb/s)>']\n",
      "            sub: ['<SubtitleStreamInfo(eng, 00:47:22)>']\n",
      "K:\\Rips\\Series\\Breaking Bad\\Breaking_bad_s2_d3-123.mkv\n",
      "            video: 00:47:21, 6.1 GB, ['<VideoStreamInfo(h264, (1920 x 1080))>']\n",
      "            audio: ['<AudioStreamInfo(eng, aac, 2ch, stereo, -1kb/s)>']\n",
      "            sub: ['<SubtitleStreamInfo(eng, 00:47:21)>']\n",
      "K:\\Rips\\Series\\Breaking Bad\\Breaking_bad_s2_d3-124.mkv\n",
      "            video: 00:47:24, 5.4 GB, ['<VideoStreamInfo(h264, (1920 x 1080))>']\n",
      "            audio: ['<AudioStreamInfo(eng, aac, 2ch, stereo, -1kb/s)>']\n",
      "            sub: ['<SubtitleStreamInfo(eng, 00:47:24)>']\n",
      "K:\\Rips\\Series\\Breaking Bad\\Breaking_bad_s2_d3-125.mkv\n",
      "            video: 00:47:34, 6.5 GB, ['<VideoStreamInfo(h264, (1920 x 1080))>']\n",
      "            audio: ['<AudioStreamInfo(eng, aac, 2ch, stereo, -1kb/s)>']\n",
      "            sub: ['<SubtitleStreamInfo(eng, 00:47:34)>']\n",
      "K:\\Rips\\Series\\Breaking Bad\\Breaking_bad_s3_d1-104.mkv\n",
      "            video: 00:47:12, 2.8 GB, ['<VideoStreamInfo(h264, (1920 x 1080))>']\n",
      "            audio: ['<AudioStreamInfo(eng, aac, 2ch, stereo, -1kb/s)>']\n",
      "            sub: ['<SubtitleStreamInfo(eng, 00:47:12)>']\n",
      "K:\\Rips\\Series\\Breaking Bad\\Breaking_bad_s3_d1-105.mkv\n",
      "            video: 00:47:12, 3.5 GB, ['<VideoStreamInfo(h264, (1920 x 1080))>']\n",
      "            audio: ['<AudioStreamInfo(eng, aac, 2ch, stereo, -1kb/s)>']\n",
      "            sub: ['<SubtitleStreamInfo(eng, 00:47:12)>']\n",
      "K:\\Rips\\Series\\Breaking Bad\\Breaking_bad_s3_d1-106.mkv\n",
      "            video: 00:47:13, 3.6 GB, ['<VideoStreamInfo(h264, (1920 x 1080))>']\n",
      "            audio: ['<AudioStreamInfo(eng, aac, 2ch, stereo, -1kb/s)>']\n",
      "            sub: ['<SubtitleStreamInfo(eng, 00:47:13)>']\n",
      "K:\\Rips\\Series\\Breaking Bad\\Breaking_bad_s3_d1-107.mkv\n",
      "            video: 00:47:13, 3.2 GB, ['<VideoStreamInfo(h264, (1920 x 1080))>']\n",
      "            audio: ['<AudioStreamInfo(eng, aac, 2ch, stereo, -1kb/s)>']\n",
      "            sub: ['<SubtitleStreamInfo(eng, 00:47:13)>']\n",
      "K:\\Rips\\Series\\Breaking Bad\\Breaking_bad_s3_d1-108.mkv\n",
      "            video: 00:47:13, 3.5 GB, ['<VideoStreamInfo(h264, (1918 x 1080))>']\n",
      "            audio: ['<AudioStreamInfo(eng, aac, 2ch, stereo, -1kb/s)>']\n",
      "            sub: ['<SubtitleStreamInfo(eng, 00:47:13)>']\n",
      "K:\\Rips\\Series\\Breaking Bad\\Breaking_bad_s3_d2-112.mkv\n",
      "            video: 01:15:54, 3.7 GB, ['<VideoStreamInfo(h264, (1916 x 1080))>']\n",
      "            audio: ['<AudioStreamInfo(eng, aac, 2ch, stereo, -1kb/s)>']\n",
      "            sub: []\n",
      "K:\\Rips\\Series\\Breaking Bad\\Breaking_bad_s3_d2-113.mkv\n",
      "            video: 00:47:13, 2.7 GB, ['<VideoStreamInfo(h264, (1920 x 1080))>']\n",
      "            audio: ['<AudioStreamInfo(eng, aac, 2ch, stereo, -1kb/s)>']\n",
      "            sub: ['<SubtitleStreamInfo(eng, 00:47:13)>']\n",
      "K:\\Rips\\Series\\Breaking Bad\\Breaking_bad_s3_d2-114.mkv\n",
      "            video: 00:47:13, 3.4 GB, ['<VideoStreamInfo(h264, (1918 x 1080))>']\n",
      "            audio: ['<AudioStreamInfo(eng, aac, 2ch, stereo, -1kb/s)>']\n",
      "            sub: ['<SubtitleStreamInfo(eng, 00:47:13)>']\n",
      "K:\\Rips\\Series\\Breaking Bad\\Breaking_bad_s3_d2-115.mkv\n",
      "            video: 00:47:14, 3.4 GB, ['<VideoStreamInfo(h264, (1916 x 1080))>']\n",
      "            audio: ['<AudioStreamInfo(eng, aac, 2ch, stereo, -1kb/s)>']\n",
      "            sub: ['<SubtitleStreamInfo(eng, 00:47:14)>']\n",
      "K:\\Rips\\Series\\Breaking Bad\\Breaking_bad_s3_d2-116.mkv\n",
      "            video: 00:47:12, 4.1 GB, ['<VideoStreamInfo(h264, (1918 x 1080))>']\n",
      "            audio: ['<AudioStreamInfo(eng, aac, 2ch, stereo, -1kb/s)>']\n",
      "            sub: ['<SubtitleStreamInfo(eng, 00:00:00)>']\n",
      "K:\\Rips\\Series\\Breaking Bad\\Breaking_bad_s3_d3-92.mkv\n",
      "            video: 00:47:14, 2.3 GB, ['<VideoStreamInfo(h264, (1916 x 1080))>']\n",
      "            audio: ['<AudioStreamInfo(eng, aac, 2ch, stereo, -1kb/s)>']\n",
      "            sub: ['<SubtitleStreamInfo(eng, 00:47:14)>']\n",
      "K:\\Rips\\Series\\Breaking Bad\\Breaking_bad_s3_d3-93.mkv\n",
      "            video: 00:47:13, 2.8 GB, ['<VideoStreamInfo(h264, (1916 x 1080))>']\n",
      "            audio: ['<AudioStreamInfo(eng, aac, 2ch, stereo, -1kb/s)>']\n",
      "            sub: ['<SubtitleStreamInfo(eng, 00:47:13)>']\n",
      "K:\\Rips\\Series\\Breaking Bad\\Breaking_bad_s3_d3-94.mkv\n",
      "            video: 00:47:13, 3.2 GB, ['<VideoStreamInfo(h264, (1920 x 1080))>']\n",
      "            audio: ['<AudioStreamInfo(eng, aac, 2ch, stereo, -1kb/s)>']\n",
      "            sub: ['<SubtitleStreamInfo(eng, 00:47:13)>']\n",
      "K:\\Rips\\Series\\Breaking Bad\\Breaking_bad_s3_d3-95.mkv\n",
      "            video: 00:47:12, 2.8 GB, ['<VideoStreamInfo(h264, (1918 x 1080))>']\n",
      "            audio: ['<AudioStreamInfo(eng, aac, 2ch, stereo, -1kb/s)>']\n",
      "            sub: ['<SubtitleStreamInfo(eng, 00:47:12)>']\n",
      "K:\\Rips\\Series\\Breaking Bad\\Breaking_bad_s4_p3_d2-107.mkv\n",
      "            video: 00:47:12, 1.3 GB, ['<VideoStreamInfo(h264, (1916 x 1080))>']\n",
      "            audio: ['<AudioStreamInfo(eng, aac, 2ch, stereo, -1kb/s)>']\n",
      "            sub: ['<SubtitleStreamInfo(eng, 00:47:12)>']\n",
      "K:\\Rips\\Series\\Breaking Bad\\Breaking_bad_s4_p3_d2-108.mkv\n",
      "            video: 00:47:12, 1.7 GB, ['<VideoStreamInfo(h264, (1920 x 1080))>']\n",
      "            audio: ['<AudioStreamInfo(eng, aac, 2ch, stereo, -1kb/s)>']\n",
      "            sub: ['<SubtitleStreamInfo(eng, 00:47:12)>']\n",
      "K:\\Rips\\Series\\Breaking Bad\\Breaking_bad_s4_p3_d2-109.mkv\n",
      "            video: 00:47:12, 1.4 GB, ['<VideoStreamInfo(h264, (1920 x 1080))>']\n",
      "            audio: ['<AudioStreamInfo(eng, aac, 2ch, stereo, -1kb/s)>']\n",
      "            sub: ['<SubtitleStreamInfo(eng, 00:00:00)>']\n",
      "K:\\Rips\\Series\\Breaking Bad\\Breaking_bad_s4_p3_d2-110.mkv\n",
      "            video: 00:47:12, 1.5 GB, ['<VideoStreamInfo(h264, (1920 x 1080))>']\n",
      "            audio: ['<AudioStreamInfo(eng, aac, 2ch, stereo, -1kb/s)>']\n",
      "            sub: ['<SubtitleStreamInfo(eng, 00:47:12)>']\n"
     ]
    }
   ],
   "source": [
    "for file in series_files:\n",
    "    if \"Monty Python's Flying Circus\" not in str(file):\n",
    "        m = MkvFileDB(file)    \n",
    "#         if len(m.audio) > 1 or any(a.channels > 2 for a in m.audio):\n",
    "        print(m)\n",
    "#     session.add(m)"
   ]
  },
  {
   "cell_type": "code",
   "execution_count": 12,
   "metadata": {
    "scrolled": true
   },
   "outputs": [
    {
     "ename": "CalledProcessError",
     "evalue": "Command 'ffprobe -v quiet -print_format json -show_format -show_streams -sexagesimal \"K:\\Library_dvd\\series\\Monty Python's Flying Circus\\Season01\\Monty Python's Flying Circus - S01E01 - Whither Canada.mkv\" ' returned non-zero exit status 1.",
     "traceback": [
      "\u001b[1;31m---------------------------------------------------------------------------\u001b[0m",
      "\u001b[1;31mCalledProcessError\u001b[0m                        Traceback (most recent call last)",
      "\u001b[1;32m<ipython-input-12-1fa3e3e71b4f>\u001b[0m in \u001b[0;36m<module>\u001b[1;34m()\u001b[0m\n\u001b[1;32m----> 1\u001b[1;33m \u001b[0mMkvFileDB\u001b[0m\u001b[1;33m(\u001b[0m\u001b[0mPath\u001b[0m\u001b[1;33m(\u001b[0m\u001b[1;34m\"K:\\\\Library_dvd\\\\series\\\\Monty Python's Flying Circus\\\\Season01\\\\Monty Python's Flying Circus - S01E01 - Whither Canada.mkv\"\u001b[0m\u001b[1;33m)\u001b[0m\u001b[1;33m)\u001b[0m\u001b[1;33m\u001b[0m\u001b[0m\n\u001b[0m",
      "\u001b[1;32m<string>\u001b[0m in \u001b[0;36m__init__\u001b[1;34m(self, filename)\u001b[0m\n",
      "\u001b[1;32mC:\\python\\anaconda3\\envs\\mkv_info\\lib\\site-packages\\sqlalchemy\\orm\\state.py\u001b[0m in \u001b[0;36m_initialize_instance\u001b[1;34m(*mixed, **kwargs)\u001b[0m\n\u001b[0;32m    412\u001b[0m         \u001b[1;32mexcept\u001b[0m\u001b[1;33m:\u001b[0m\u001b[1;33m\u001b[0m\u001b[0m\n\u001b[0;32m    413\u001b[0m             \u001b[1;32mwith\u001b[0m \u001b[0mutil\u001b[0m\u001b[1;33m.\u001b[0m\u001b[0msafe_reraise\u001b[0m\u001b[1;33m(\u001b[0m\u001b[1;33m)\u001b[0m\u001b[1;33m:\u001b[0m\u001b[1;33m\u001b[0m\u001b[0m\n\u001b[1;32m--> 414\u001b[1;33m                 \u001b[0mmanager\u001b[0m\u001b[1;33m.\u001b[0m\u001b[0mdispatch\u001b[0m\u001b[1;33m.\u001b[0m\u001b[0minit_failure\u001b[0m\u001b[1;33m(\u001b[0m\u001b[0mself\u001b[0m\u001b[1;33m,\u001b[0m \u001b[0margs\u001b[0m\u001b[1;33m,\u001b[0m \u001b[0mkwargs\u001b[0m\u001b[1;33m)\u001b[0m\u001b[1;33m\u001b[0m\u001b[0m\n\u001b[0m\u001b[0;32m    415\u001b[0m \u001b[1;33m\u001b[0m\u001b[0m\n\u001b[0;32m    416\u001b[0m     \u001b[1;32mdef\u001b[0m \u001b[0mget_history\u001b[0m\u001b[1;33m(\u001b[0m\u001b[0mself\u001b[0m\u001b[1;33m,\u001b[0m \u001b[0mkey\u001b[0m\u001b[1;33m,\u001b[0m \u001b[0mpassive\u001b[0m\u001b[1;33m)\u001b[0m\u001b[1;33m:\u001b[0m\u001b[1;33m\u001b[0m\u001b[0m\n",
      "\u001b[1;32mC:\\python\\anaconda3\\envs\\mkv_info\\lib\\site-packages\\sqlalchemy\\util\\langhelpers.py\u001b[0m in \u001b[0;36m__exit__\u001b[1;34m(self, type_, value, traceback)\u001b[0m\n\u001b[0;32m     64\u001b[0m             \u001b[0mself\u001b[0m\u001b[1;33m.\u001b[0m\u001b[0m_exc_info\u001b[0m \u001b[1;33m=\u001b[0m \u001b[1;32mNone\u001b[0m   \u001b[1;31m# remove potential circular references\u001b[0m\u001b[1;33m\u001b[0m\u001b[0m\n\u001b[0;32m     65\u001b[0m             \u001b[1;32mif\u001b[0m \u001b[1;32mnot\u001b[0m \u001b[0mself\u001b[0m\u001b[1;33m.\u001b[0m\u001b[0mwarn_only\u001b[0m\u001b[1;33m:\u001b[0m\u001b[1;33m\u001b[0m\u001b[0m\n\u001b[1;32m---> 66\u001b[1;33m                 \u001b[0mcompat\u001b[0m\u001b[1;33m.\u001b[0m\u001b[0mreraise\u001b[0m\u001b[1;33m(\u001b[0m\u001b[0mexc_type\u001b[0m\u001b[1;33m,\u001b[0m \u001b[0mexc_value\u001b[0m\u001b[1;33m,\u001b[0m \u001b[0mexc_tb\u001b[0m\u001b[1;33m)\u001b[0m\u001b[1;33m\u001b[0m\u001b[0m\n\u001b[0m\u001b[0;32m     67\u001b[0m         \u001b[1;32melse\u001b[0m\u001b[1;33m:\u001b[0m\u001b[1;33m\u001b[0m\u001b[0m\n\u001b[0;32m     68\u001b[0m             \u001b[1;32mif\u001b[0m \u001b[1;32mnot\u001b[0m \u001b[0mcompat\u001b[0m\u001b[1;33m.\u001b[0m\u001b[0mpy3k\u001b[0m \u001b[1;32mand\u001b[0m \u001b[0mself\u001b[0m\u001b[1;33m.\u001b[0m\u001b[0m_exc_info\u001b[0m \u001b[1;32mand\u001b[0m \u001b[0mself\u001b[0m\u001b[1;33m.\u001b[0m\u001b[0m_exc_info\u001b[0m\u001b[1;33m[\u001b[0m\u001b[1;36m1\u001b[0m\u001b[1;33m]\u001b[0m\u001b[1;33m:\u001b[0m\u001b[1;33m\u001b[0m\u001b[0m\n",
      "\u001b[1;32mC:\\python\\anaconda3\\envs\\mkv_info\\lib\\site-packages\\sqlalchemy\\util\\compat.py\u001b[0m in \u001b[0;36mreraise\u001b[1;34m(tp, value, tb, cause)\u001b[0m\n\u001b[0;32m    185\u001b[0m         \u001b[1;32mif\u001b[0m \u001b[0mvalue\u001b[0m\u001b[1;33m.\u001b[0m\u001b[0m__traceback__\u001b[0m \u001b[1;32mis\u001b[0m \u001b[1;32mnot\u001b[0m \u001b[0mtb\u001b[0m\u001b[1;33m:\u001b[0m\u001b[1;33m\u001b[0m\u001b[0m\n\u001b[0;32m    186\u001b[0m             \u001b[1;32mraise\u001b[0m \u001b[0mvalue\u001b[0m\u001b[1;33m.\u001b[0m\u001b[0mwith_traceback\u001b[0m\u001b[1;33m(\u001b[0m\u001b[0mtb\u001b[0m\u001b[1;33m)\u001b[0m\u001b[1;33m\u001b[0m\u001b[0m\n\u001b[1;32m--> 187\u001b[1;33m         \u001b[1;32mraise\u001b[0m \u001b[0mvalue\u001b[0m\u001b[1;33m\u001b[0m\u001b[0m\n\u001b[0m\u001b[0;32m    188\u001b[0m \u001b[1;33m\u001b[0m\u001b[0m\n\u001b[0;32m    189\u001b[0m \u001b[1;32melse\u001b[0m\u001b[1;33m:\u001b[0m\u001b[1;33m\u001b[0m\u001b[0m\n",
      "\u001b[1;32mC:\\python\\anaconda3\\envs\\mkv_info\\lib\\site-packages\\sqlalchemy\\orm\\state.py\u001b[0m in \u001b[0;36m_initialize_instance\u001b[1;34m(*mixed, **kwargs)\u001b[0m\n\u001b[0;32m    409\u001b[0m \u001b[1;33m\u001b[0m\u001b[0m\n\u001b[0;32m    410\u001b[0m         \u001b[1;32mtry\u001b[0m\u001b[1;33m:\u001b[0m\u001b[1;33m\u001b[0m\u001b[0m\n\u001b[1;32m--> 411\u001b[1;33m             \u001b[1;32mreturn\u001b[0m \u001b[0mmanager\u001b[0m\u001b[1;33m.\u001b[0m\u001b[0moriginal_init\u001b[0m\u001b[1;33m(\u001b[0m\u001b[1;33m*\u001b[0m\u001b[0mmixed\u001b[0m\u001b[1;33m[\u001b[0m\u001b[1;36m1\u001b[0m\u001b[1;33m:\u001b[0m\u001b[1;33m]\u001b[0m\u001b[1;33m,\u001b[0m \u001b[1;33m**\u001b[0m\u001b[0mkwargs\u001b[0m\u001b[1;33m)\u001b[0m\u001b[1;33m\u001b[0m\u001b[0m\n\u001b[0m\u001b[0;32m    412\u001b[0m         \u001b[1;32mexcept\u001b[0m\u001b[1;33m:\u001b[0m\u001b[1;33m\u001b[0m\u001b[0m\n\u001b[0;32m    413\u001b[0m             \u001b[1;32mwith\u001b[0m \u001b[0mutil\u001b[0m\u001b[1;33m.\u001b[0m\u001b[0msafe_reraise\u001b[0m\u001b[1;33m(\u001b[0m\u001b[1;33m)\u001b[0m\u001b[1;33m:\u001b[0m\u001b[1;33m\u001b[0m\u001b[0m\n",
      "\u001b[1;32mG:\\maarten\\Python\\video_library\\video_bibliotheek\\video_info_db.py\u001b[0m in \u001b[0;36m__init__\u001b[1;34m(self, filename)\u001b[0m\n\u001b[0;32m     28\u001b[0m     \u001b[1;32mdef\u001b[0m \u001b[0m__init__\u001b[0m\u001b[1;33m(\u001b[0m\u001b[0mself\u001b[0m\u001b[1;33m,\u001b[0m \u001b[0mfilename\u001b[0m\u001b[1;33m)\u001b[0m\u001b[1;33m:\u001b[0m\u001b[1;33m\u001b[0m\u001b[0m\n\u001b[0;32m     29\u001b[0m         \u001b[0mparsers\u001b[0m \u001b[1;33m=\u001b[0m \u001b[1;33m{\u001b[0m\u001b[1;34m'subtitle'\u001b[0m\u001b[1;33m:\u001b[0m \u001b[0mSubtitleStreamInfoDB\u001b[0m\u001b[1;33m,\u001b[0m \u001b[1;34m'video'\u001b[0m\u001b[1;33m:\u001b[0m \u001b[0mVideoStreamInfoDB\u001b[0m\u001b[1;33m,\u001b[0m \u001b[1;34m'audio'\u001b[0m\u001b[1;33m:\u001b[0m \u001b[0mAudioStreamInfoDB\u001b[0m\u001b[1;33m}\u001b[0m\u001b[1;33m\u001b[0m\u001b[0m\n\u001b[1;32m---> 30\u001b[1;33m         \u001b[0mMkvFile\u001b[0m\u001b[1;33m.\u001b[0m\u001b[0m__init__\u001b[0m\u001b[1;33m(\u001b[0m\u001b[0mself\u001b[0m\u001b[1;33m,\u001b[0m \u001b[0mfilename\u001b[0m\u001b[1;33m=\u001b[0m\u001b[0mfilename\u001b[0m\u001b[1;33m,\u001b[0m \u001b[0mparsers\u001b[0m\u001b[1;33m=\u001b[0m\u001b[0mparsers\u001b[0m\u001b[1;33m)\u001b[0m\u001b[1;33m\u001b[0m\u001b[0m\n\u001b[0m\u001b[0;32m     31\u001b[0m \u001b[1;33m\u001b[0m\u001b[0m\n\u001b[0;32m     32\u001b[0m \u001b[1;32mclass\u001b[0m \u001b[0mStream_MKV\u001b[0m\u001b[1;33m(\u001b[0m\u001b[0mBase\u001b[0m\u001b[1;33m)\u001b[0m\u001b[1;33m:\u001b[0m\u001b[1;33m\u001b[0m\u001b[0m\n",
      "\u001b[1;32mG:\\maarten\\Python\\video_library\\video_bibliotheek\\video_info.py\u001b[0m in \u001b[0;36m__init__\u001b[1;34m(self, filename, parsers)\u001b[0m\n\u001b[0;32m     11\u001b[0m         \u001b[0mself\u001b[0m\u001b[1;33m.\u001b[0m\u001b[0mfilename\u001b[0m \u001b[1;33m=\u001b[0m \u001b[0mfilename\u001b[0m\u001b[1;33m\u001b[0m\u001b[0m\n\u001b[0;32m     12\u001b[0m \u001b[1;33m\u001b[0m\u001b[0m\n\u001b[1;32m---> 13\u001b[1;33m         \u001b[0mfile_info_json\u001b[0m \u001b[1;33m=\u001b[0m \u001b[0mjson\u001b[0m\u001b[1;33m.\u001b[0m\u001b[0mloads\u001b[0m\u001b[1;33m(\u001b[0m\u001b[0mprobe_file_json\u001b[0m\u001b[1;33m(\u001b[0m\u001b[0mstr\u001b[0m\u001b[1;33m(\u001b[0m\u001b[0mfilename\u001b[0m\u001b[1;33m)\u001b[0m\u001b[1;33m)\u001b[0m\u001b[1;33m)\u001b[0m\u001b[1;33m\u001b[0m\u001b[0m\n\u001b[0m\u001b[0;32m     14\u001b[0m \u001b[1;33m\u001b[0m\u001b[0m\n\u001b[0;32m     15\u001b[0m         \u001b[0mformat_info\u001b[0m \u001b[1;33m=\u001b[0m \u001b[0mfile_info_json\u001b[0m\u001b[1;33m[\u001b[0m\u001b[1;34m'format'\u001b[0m\u001b[1;33m]\u001b[0m\u001b[1;33m\u001b[0m\u001b[0m\n",
      "\u001b[1;32mG:\\maarten\\Python\\video_library\\video_bibliotheek\\video_info.py\u001b[0m in \u001b[0;36mprobe_file_json\u001b[1;34m(filename)\u001b[0m\n\u001b[0;32m    135\u001b[0m     \u001b[0mcmd\u001b[0m \u001b[1;33m=\u001b[0m \u001b[1;34mf\"\"\"ffprobe -v quiet -print_format json -show_format -show_streams -sexagesimal \"{filename}\" \"\"\"\u001b[0m\u001b[1;33m\u001b[0m\u001b[0m\n\u001b[0;32m    136\u001b[0m \u001b[1;33m\u001b[0m\u001b[0m\n\u001b[1;32m--> 137\u001b[1;33m     \u001b[1;32mreturn\u001b[0m \u001b[0msubprocess\u001b[0m\u001b[1;33m.\u001b[0m\u001b[0mcheck_output\u001b[0m\u001b[1;33m(\u001b[0m\u001b[0mcmd\u001b[0m\u001b[1;33m)\u001b[0m\u001b[1;33m\u001b[0m\u001b[0m\n\u001b[0m",
      "\u001b[1;32mC:\\python\\anaconda3\\envs\\mkv_info\\lib\\subprocess.py\u001b[0m in \u001b[0;36mcheck_output\u001b[1;34m(timeout, *popenargs, **kwargs)\u001b[0m\n\u001b[0;32m    334\u001b[0m \u001b[1;33m\u001b[0m\u001b[0m\n\u001b[0;32m    335\u001b[0m     return run(*popenargs, stdout=PIPE, timeout=timeout, check=True,\n\u001b[1;32m--> 336\u001b[1;33m                **kwargs).stdout\n\u001b[0m\u001b[0;32m    337\u001b[0m \u001b[1;33m\u001b[0m\u001b[0m\n\u001b[0;32m    338\u001b[0m \u001b[1;33m\u001b[0m\u001b[0m\n",
      "\u001b[1;32mC:\\python\\anaconda3\\envs\\mkv_info\\lib\\subprocess.py\u001b[0m in \u001b[0;36mrun\u001b[1;34m(input, timeout, check, *popenargs, **kwargs)\u001b[0m\n\u001b[0;32m    416\u001b[0m         \u001b[1;32mif\u001b[0m \u001b[0mcheck\u001b[0m \u001b[1;32mand\u001b[0m \u001b[0mretcode\u001b[0m\u001b[1;33m:\u001b[0m\u001b[1;33m\u001b[0m\u001b[0m\n\u001b[0;32m    417\u001b[0m             raise CalledProcessError(retcode, process.args,\n\u001b[1;32m--> 418\u001b[1;33m                                      output=stdout, stderr=stderr)\n\u001b[0m\u001b[0;32m    419\u001b[0m     \u001b[1;32mreturn\u001b[0m \u001b[0mCompletedProcess\u001b[0m\u001b[1;33m(\u001b[0m\u001b[0mprocess\u001b[0m\u001b[1;33m.\u001b[0m\u001b[0margs\u001b[0m\u001b[1;33m,\u001b[0m \u001b[0mretcode\u001b[0m\u001b[1;33m,\u001b[0m \u001b[0mstdout\u001b[0m\u001b[1;33m,\u001b[0m \u001b[0mstderr\u001b[0m\u001b[1;33m)\u001b[0m\u001b[1;33m\u001b[0m\u001b[0m\n\u001b[0;32m    420\u001b[0m \u001b[1;33m\u001b[0m\u001b[0m\n",
      "\u001b[1;31mCalledProcessError\u001b[0m: Command 'ffprobe -v quiet -print_format json -show_format -show_streams -sexagesimal \"K:\\Library_dvd\\series\\Monty Python's Flying Circus\\Season01\\Monty Python's Flying Circus - S01E01 - Whither Canada.mkv\" ' returned non-zero exit status 1."
     ],
     "output_type": "error"
    }
   ],
   "source": [
    "MkvFileDB(Path(\"K:\\\\Library_dvd\\\\series\\\\Monty Python's Flying Circus\\\\Season01\\\\Monty Python's Flying Circus - S01E01 - Whither Canada.mkv\"))"
   ]
  },
  {
   "cell_type": "code",
   "execution_count": 10,
   "metadata": {},
   "outputs": [
    {
     "data": {
      "text/plain": [
       "'ffprobe -print_format json -show_format -show_streams -sexagesimal \"K:\\\\Library_dvd\\\\series\\\\Monty Python\\'s Flying Circus\\\\Season01\\\\Monty Python\\'s Flying Circus - S01E01 - Whither Canada.mkv\"'"
      ]
     },
     "execution_count": 10,
     "metadata": {},
     "output_type": "execute_result"
    }
   ],
   "source": [
    "s = ['ffprobe', '-print_format', 'json', '-show_format', '-show_streams', '-sexagesimal', '\"K:\\\\Library_dvd\\\\series\\\\Monty Python\\'s Flying Circus\\\\Season01\\\\Monty Python\\'s Flying Circus - S01E01 - Whither Canada.mkv\"']\n",
    "\" \".join(s)"
   ]
  },
  {
   "cell_type": "code",
   "execution_count": 13,
   "metadata": {},
   "outputs": [
    {
     "data": {
      "text/plain": [
       "(\"K:\\\\Library_dvd\\\\series\\\\Monty Python's Flying Circus\\\\Season01\\\\Monty Python's Flying Circus - S01E01 - Whither Canada.mkv\",\n",
       " '\\'K:\\\\Library_dvd\\\\series\\\\Monty Python\\'\"\\'\"\\'s Flying Circus\\\\Season01\\\\Monty Python\\'\"\\'\"\\'s Flying Circus - S01E01 - Whither Canada.mkv\\'')"
      ]
     },
     "execution_count": 13,
     "metadata": {},
     "output_type": "execute_result"
    }
   ],
   "source": [
    "import shlex\n",
    "s = str(Path(\"K:\\\\Library_dvd\\\\series\\\\Monty Python\\'s Flying Circus\\\\Season01\\\\Monty Python\\'s Flying Circus - S01E01 - Whither Canada.mkv\"))\n",
    "s, shlex.quote(str(Path(\"K:\\\\Library_dvd\\\\series\\\\Monty Python\\'s Flying Circus\\\\Season01\\\\Monty Python\\'s Flying Circus - S01E01 - Whither Canada.mkv\")))"
   ]
  },
  {
   "cell_type": "code",
   "execution_count": null,
   "metadata": {
    "collapsed": true
   },
   "outputs": [],
   "source": [
    "session"
   ]
  },
  {
   "cell_type": "code",
   "execution_count": null,
   "metadata": {
    "collapsed": true
   },
   "outputs": [],
   "source": [
    "session.commit()"
   ]
  },
  {
   "cell_type": "code",
   "execution_count": null,
   "metadata": {
    "collapsed": true
   },
   "outputs": [],
   "source": [
    "session.flush()"
   ]
  },
  {
   "cell_type": "code",
   "execution_count": null,
   "metadata": {
    "collapsed": true
   },
   "outputs": [],
   "source": [
    "session.close()"
   ]
  },
  {
   "cell_type": "code",
   "execution_count": null,
   "metadata": {
    "collapsed": true
   },
   "outputs": [],
   "source": [
    "info_files1 = {file: MkvFileDB(file) for file in file_dir1.glob('**/*.mkv')}"
   ]
  },
  {
   "cell_type": "code",
   "execution_count": null,
   "metadata": {
    "collapsed": true
   },
   "outputs": [],
   "source": [
    "for file in file_dir3.glob('**/*.mkv'):\n",
    "    m = MkvFileDB(file)\n",
    "    if len(m.audio) > 1:\n",
    "        print(m)"
   ]
  },
  {
   "cell_type": "code",
   "execution_count": null,
   "metadata": {
    "collapsed": true
   },
   "outputs": [],
   "source": [
    "for file in file_dir3.glob('**/*.mkv'):\n",
    "    m = MkvFileDB(file)\n",
    "    if any(a.channels > 2 for a in m.audio):\n",
    "        print(m)"
   ]
  },
  {
   "cell_type": "code",
   "execution_count": null,
   "metadata": {
    "collapsed": true
   },
   "outputs": [],
   "source": [
    "m = MkvFileDB(file)"
   ]
  },
  {
   "cell_type": "code",
   "execution_count": null,
   "metadata": {
    "collapsed": true
   },
   "outputs": [],
   "source": [
    "m.audio[0].channels"
   ]
  },
  {
   "cell_type": "code",
   "execution_count": null,
   "metadata": {
    "collapsed": true
   },
   "outputs": [],
   "source": []
  }
 ],
 "metadata": {
  "kernelspec": {
   "display_name": "Python [conda env:mkv_info]",
   "language": "python",
   "name": "conda-env-mkv_info-py"
  },
  "language_info": {
   "codemirror_mode": {
    "name": "ipython",
    "version": 3
   },
   "file_extension": ".py",
   "mimetype": "text/x-python",
   "name": "python",
   "nbconvert_exporter": "python",
   "pygments_lexer": "ipython3",
   "version": "3.6.2"
  },
  "toc": {
   "colors": {
    "hover_highlight": "#DAA520",
    "navigate_num": "#000000",
    "navigate_text": "#333333",
    "running_highlight": "#FF0000",
    "selected_highlight": "#FFD700",
    "sidebar_border": "#EEEEEE",
    "wrapper_background": "#FFFFFF"
   },
   "moveMenuLeft": true,
   "nav_menu": {
    "height": "12px",
    "width": "252px"
   },
   "navigate_menu": true,
   "number_sections": true,
   "sideBar": true,
   "threshold": 4.0,
   "toc_cell": false,
   "toc_section_display": "block",
   "toc_window_display": false,
   "widenNotebook": false
  }
 },
 "nbformat": 4,
 "nbformat_minor": 2
}

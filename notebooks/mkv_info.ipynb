{
 "cells": [
  {
   "cell_type": "markdown",
   "metadata": {},
   "source": [
    "https://codereview.stackexchange.com/questions/23277/trying-to-get-output-of-ffprobe-into-variable\n",
    "\n",
    "https://stackoverflow.com/questions/9896644/getting-ffprobe-information-with-python"
   ]
  },
  {
   "cell_type": "code",
   "execution_count": 56,
   "metadata": {
    "collapsed": true
   },
   "outputs": [],
   "source": [
    "import os, sys, subprocess\n",
    "from pathlib import Path\n",
    "import xml.etree.ElementTree as eTree\n",
    "import collections\n",
    "import xmltodict\n",
    "import json\n",
    "import datetime"
   ]
  },
  {
   "cell_type": "code",
   "execution_count": 2,
   "metadata": {
    "collapsed": true
   },
   "outputs": [],
   "source": [
    "data_dir = Path('data')\n",
    "filename = data_dir.joinpath('Blackadder - S01E01 - The Foretelling.mkv')"
   ]
  },
  {
   "cell_type": "code",
   "execution_count": 3,
   "metadata": {},
   "outputs": [
    {
     "data": {
      "text/plain": [
       "['data\\\\Barbapapa - S02E01 - De Spaarpot.mkv',\n",
       " 'data\\\\Blackadder - S01E01 - The Foretelling.mkv']"
      ]
     },
     "execution_count": 3,
     "metadata": {},
     "output_type": "execute_result"
    }
   ],
   "source": [
    "[str(i) for i in data_dir.glob('*')]"
   ]
  },
  {
   "cell_type": "code",
   "execution_count": 4,
   "metadata": {
    "collapsed": true
   },
   "outputs": [],
   "source": [
    "def probe_file_json(executable, filename):\n",
    "    '''Runs ``ffprobe`` executable over ``filename``, returns parsed XML\n",
    "\n",
    "    Parameters:\n",
    "\n",
    "        executable (str): Full path leading to ``ffprobe``\n",
    "        filename (str): Full path leading to the file to be probed\n",
    "\n",
    "    Returns:\n",
    "\n",
    "        xml.etree.ElementTree: containing all parsed elements\n",
    "\n",
    "    '''\n",
    "\n",
    "    cmd = [\n",
    "        executable,\n",
    "        '-v', 'quiet',\n",
    "        '-print_format', 'json', #here is the trick\n",
    "        '-show_format',\n",
    "        '-show_streams',\n",
    "        '-sexagesimal',\n",
    "        # '-count_frames',\n",
    "        '-unit',\n",
    "        filename,\n",
    "        ]\n",
    "\n",
    "    return subprocess.check_output(cmd)\n",
    "    # return eTree.fromstring(subprocess.check_output(cmd))"
   ]
  },
  {
   "cell_type": "code",
   "execution_count": 19,
   "metadata": {
    "collapsed": true
   },
   "outputs": [],
   "source": [
    "def parse_disposition(info):\n",
    "    return [k for k, v in info.get('disposition', {}).items() if v]\n",
    "def get_lang(stream):\n",
    "    return stream.get('tags', {}).get('language', None)"
   ]
  },
  {
   "cell_type": "code",
   "execution_count": 45,
   "metadata": {
    "collapsed": true
   },
   "outputs": [],
   "source": [
    "def parse_audio(stream):\n",
    "    tag_info = ['lang']\n",
    "    attrib_info = ['index', 'channels', 'codec_name', 'channel_layout', 'bit_rate', 'duration']\n",
    "    AudioStream = collections.namedtuple('AudioStream', attrib_info + tag_info + ['disposition'])\n",
    "    \n",
    "    return 'audio', AudioStream(*[stream.get(info, None) for info in attrib_info], get_lang(stream), parse_disposition(stream))\n",
    "    \n",
    "def parse_video(stream):\n",
    "    tag_info = ['lang']\n",
    "    attrib_info = ['index', 'codec_name', 'width', 'height']\n",
    "    \n",
    "    VideoStream = collections.namedtuple('VideoStream', attrib_info + tag_info + ['disposition'])\n",
    "    return 'video', VideoStream(*[stream.get(info, None) for info in attrib_info], get_lang(stream), parse_disposition(stream))\n",
    "    \n",
    "def parse_sub(stream):\n",
    "    tag_info = ['lang']\n",
    "    attrib_info = ['index', 'codec_name', 'duration']\n",
    "    \n",
    "    SubtitleStream = collections.namedtuple('SubtitleStream', attrib_info + tag_info + ['disposition'])\n",
    "    return 'sub', SubtitleStream(*[stream.get(info, None) for info in attrib_info], get_lang(stream), parse_disposition(stream))"
   ]
  },
  {
   "cell_type": "code",
   "execution_count": 46,
   "metadata": {
    "collapsed": true
   },
   "outputs": [],
   "source": [
    "def parse_format(format):\n",
    "    format_info = ['duration', 'size', 'nb_streams', 'format_name']\n",
    "    FormatInfo = collections.namedtuple('FormatInfo', format_info)\n",
    "    \n",
    "    return FormatInfo(*[format.get(info, None) for info in format_info], )"
   ]
  },
  {
   "cell_type": "code",
   "execution_count": 47,
   "metadata": {
    "collapsed": true
   },
   "outputs": [],
   "source": [
    "def parse_streams(streams: dict):\n",
    "    # print(streams)\n",
    "    parsers = {'subtitle': parse_sub, 'video': parse_video, 'audio': parse_audio}\n",
    "    for stream in streams:\n",
    "        # print(stream)\n",
    "        yield parsers[stream['codec_type']](stream)"
   ]
  },
  {
   "cell_type": "code",
   "execution_count": 9,
   "metadata": {
    "collapsed": true
   },
   "outputs": [],
   "source": [
    "def parse_file(filename: Path):\n",
    "    file_info_json = json.loads(probe_file_json('ffprobe', str(filename)))\n",
    "    format_info = parse_format(file_info_json['format'])\n",
    "    # print(file_info_json['streams'])\n",
    "    stream_info = parse_streams(file_info_json['streams'])\n",
    "    \n",
    "    return filename, [format_info] + [i for i in stream_info]"
   ]
  },
  {
   "cell_type": "code",
   "execution_count": 10,
   "metadata": {},
   "outputs": [
    {
     "data": {
      "text/plain": [
       "{'bit_rate': '3471189 bit/s',\n",
       " 'duration': '0:33:31.480000',\n",
       " 'filename': 'data\\\\Blackadder - S01E01 - The Foretelling.mkv',\n",
       " 'format_long_name': 'Matroska / WebM',\n",
       " 'format_name': 'matroska,webm',\n",
       " 'nb_programs': 0,\n",
       " 'nb_streams': 4,\n",
       " 'probe_score': 100,\n",
       " 'size': '872778464 byte',\n",
       " 'start_time': '0:00:00.000000',\n",
       " 'tags': {'encoder': 'libmkv 0.6.5'}}"
      ]
     },
     "execution_count": 10,
     "metadata": {},
     "output_type": "execute_result"
    }
   ],
   "source": [
    "file_info_json = probe_file_json('ffprobe', str(filename))\n",
    "json.loads(file_info_json)['format']"
   ]
  },
  {
   "cell_type": "code",
   "execution_count": 11,
   "metadata": {},
   "outputs": [
    {
     "data": {
      "text/plain": [
       "[{'avg_frame_rate': '25/1',\n",
       "  'bits_per_raw_sample': '8',\n",
       "  'chroma_location': 'left',\n",
       "  'codec_long_name': 'H.264 / AVC / MPEG-4 AVC / MPEG-4 part 10',\n",
       "  'codec_name': 'h264',\n",
       "  'codec_tag': '0x0000',\n",
       "  'codec_tag_string': '[0][0][0][0]',\n",
       "  'codec_time_base': '1/50',\n",
       "  'codec_type': 'video',\n",
       "  'coded_height': 592,\n",
       "  'coded_width': 720,\n",
       "  'color_primaries': 'bt470bg',\n",
       "  'color_range': 'tv',\n",
       "  'color_space': 'smpte170m',\n",
       "  'color_transfer': 'bt709',\n",
       "  'display_aspect_ratio': '765:592',\n",
       "  'disposition': {'attached_pic': 0,\n",
       "   'clean_effects': 0,\n",
       "   'comment': 0,\n",
       "   'default': 1,\n",
       "   'dub': 0,\n",
       "   'forced': 0,\n",
       "   'hearing_impaired': 0,\n",
       "   'karaoke': 0,\n",
       "   'lyrics': 0,\n",
       "   'original': 0,\n",
       "   'timed_thumbnails': 0,\n",
       "   'visual_impaired': 0},\n",
       "  'field_order': 'progressive',\n",
       "  'has_b_frames': 2,\n",
       "  'height': 592,\n",
       "  'index': 0,\n",
       "  'is_avc': 'true',\n",
       "  'level': 31,\n",
       "  'nal_length_size': '4',\n",
       "  'pix_fmt': 'yuv420p',\n",
       "  'profile': 'High',\n",
       "  'r_frame_rate': '25/1',\n",
       "  'refs': 1,\n",
       "  'sample_aspect_ratio': '17:16',\n",
       "  'start_pts': 0,\n",
       "  'start_time': '0:00:00.000000',\n",
       "  'tags': {'language': 'eng'},\n",
       "  'time_base': '1/1000',\n",
       "  'width': 720},\n",
       " {'avg_frame_rate': '0/0',\n",
       "  'bit_rate': '256000 bit/s',\n",
       "  'bits_per_sample': 0,\n",
       "  'channel_layout': 'stereo',\n",
       "  'channels': 2,\n",
       "  'codec_long_name': 'ATSC A/52A (AC-3)',\n",
       "  'codec_name': 'ac3',\n",
       "  'codec_tag': '0x0000',\n",
       "  'codec_tag_string': '[0][0][0][0]',\n",
       "  'codec_time_base': '1/48000',\n",
       "  'codec_type': 'audio',\n",
       "  'disposition': {'attached_pic': 0,\n",
       "   'clean_effects': 0,\n",
       "   'comment': 0,\n",
       "   'default': 1,\n",
       "   'dub': 0,\n",
       "   'forced': 0,\n",
       "   'hearing_impaired': 0,\n",
       "   'karaoke': 0,\n",
       "   'lyrics': 0,\n",
       "   'original': 0,\n",
       "   'timed_thumbnails': 0,\n",
       "   'visual_impaired': 0},\n",
       "  'dmix_mode': '-1',\n",
       "  'index': 1,\n",
       "  'loro_cmixlev': '-1.000000',\n",
       "  'loro_surmixlev': '-1.000000',\n",
       "  'ltrt_cmixlev': '-1.000000',\n",
       "  'ltrt_surmixlev': '-1.000000',\n",
       "  'r_frame_rate': '0/0',\n",
       "  'sample_fmt': 'fltp',\n",
       "  'sample_rate': '48000 Hz',\n",
       "  'start_pts': 0,\n",
       "  'start_time': '0:00:00.000000',\n",
       "  'tags': {'language': 'eng'},\n",
       "  'time_base': '1/1000'},\n",
       " {'avg_frame_rate': '0/0',\n",
       "  'codec_long_name': 'DVD subtitles',\n",
       "  'codec_name': 'dvd_subtitle',\n",
       "  'codec_tag': '0x0000',\n",
       "  'codec_tag_string': '[0][0][0][0]',\n",
       "  'codec_time_base': '0/1',\n",
       "  'codec_type': 'subtitle',\n",
       "  'disposition': {'attached_pic': 0,\n",
       "   'clean_effects': 0,\n",
       "   'comment': 0,\n",
       "   'default': 0,\n",
       "   'dub': 0,\n",
       "   'forced': 0,\n",
       "   'hearing_impaired': 0,\n",
       "   'karaoke': 0,\n",
       "   'lyrics': 0,\n",
       "   'original': 0,\n",
       "   'timed_thumbnails': 0,\n",
       "   'visual_impaired': 0},\n",
       "  'duration': '0:33:31.480000',\n",
       "  'duration_ts': 2011480,\n",
       "  'height': 576,\n",
       "  'index': 2,\n",
       "  'r_frame_rate': '0/0',\n",
       "  'start_pts': 0,\n",
       "  'start_time': '0:00:00.000000',\n",
       "  'tags': {'language': 'eng'},\n",
       "  'time_base': '1/1000',\n",
       "  'width': 720},\n",
       " {'avg_frame_rate': '0/0',\n",
       "  'codec_long_name': 'DVD subtitles',\n",
       "  'codec_name': 'dvd_subtitle',\n",
       "  'codec_tag': '0x0000',\n",
       "  'codec_tag_string': '[0][0][0][0]',\n",
       "  'codec_time_base': '0/1',\n",
       "  'codec_type': 'subtitle',\n",
       "  'disposition': {'attached_pic': 0,\n",
       "   'clean_effects': 0,\n",
       "   'comment': 0,\n",
       "   'default': 0,\n",
       "   'dub': 0,\n",
       "   'forced': 0,\n",
       "   'hearing_impaired': 0,\n",
       "   'karaoke': 0,\n",
       "   'lyrics': 0,\n",
       "   'original': 0,\n",
       "   'timed_thumbnails': 0,\n",
       "   'visual_impaired': 0},\n",
       "  'duration': '0:33:31.480000',\n",
       "  'duration_ts': 2011480,\n",
       "  'height': 576,\n",
       "  'index': 3,\n",
       "  'r_frame_rate': '0/0',\n",
       "  'start_pts': 0,\n",
       "  'start_time': '0:00:00.000000',\n",
       "  'tags': {'language': 'dut'},\n",
       "  'time_base': '1/1000',\n",
       "  'width': 720}]"
      ]
     },
     "execution_count": 11,
     "metadata": {},
     "output_type": "execute_result"
    }
   ],
   "source": [
    "json.loads(file_info_json)['streams']"
   ]
  },
  {
   "cell_type": "code",
   "execution_count": 139,
   "metadata": {
    "collapsed": true
   },
   "outputs": [],
   "source": [
    "class MkvInfo:\n",
    "    def __init__(self, filename: Path):\n",
    "        self._filename = filename\n",
    "        file_info = json.loads(probe_file_json('ffprobe', str(filename)))\n",
    "        \n",
    "        self._format = parse_format(file_info['format'])\n",
    "        self._video, self._audio, self._sub = _parse_stream_info(file_info['streams'])\n",
    "        \n",
    "    def __str__(self):\n",
    "        stream_str = '\\n\\t'.join(str(i) for i in self._stream_info)\n",
    "        return f'''{str(self._filename)}\n",
    "    {self._format_info}\n",
    "    {stream_str}'''\n",
    "    \n",
    "    def __repr__(self):\n",
    "        stream_str = '\\n\\t'.join(str(i) for i in self._audio)\n",
    "        return f'''{str(self._filename)}\n",
    "    video: {self.summarize_format() + self.summarize_video()}\n",
    "    audio: {self.summarize_audio()}\n",
    "    sub: {self.summarize_sub()}'''\n",
    "    \n",
    "    @property\n",
    "    def audio_streams(self):\n",
    "        return len(self._audio)\n",
    "    \n",
    "    def summarize_format(self):\n",
    "        info = self._format\n",
    "        dt = datetime.datetime.strptime(info.duration, '%X.%f')\n",
    "        duration = datetime.timedelta(hours=dt.hour, minutes=dt.minute, seconds=dt.second)\n",
    "        size = round(int(info.size.split()[0]) / 1e9, 1)\n",
    "        \n",
    "        return str(duration), f'{size} GB'\n",
    "    \n",
    "    def summarize_video(self):\n",
    "        info  = self._video[0]\n",
    "        resolution = info.width, info.height\n",
    "        \n",
    "        return info.codec_name, resolution\n",
    "    \n",
    "    def summarize_audio(self):\n",
    "        def parse_stream_info(info):\n",
    "            return info.codec_name, info.channels, (f'{round(int(info.bit_rate.split()[0]) / 1000)} kb/s' if info.bit_rate else None), info.lang, ((info.disposition) if info.disposition else None)\n",
    "        return [parse_stream_info(i) for i in self._audio] \n",
    "    \n",
    "    def summarize_sub(self):\n",
    "        return [sub.lang for sub in self._sub]\n",
    "        \n",
    "    \n",
    "def _parse_stream_info(info):video\n",
    "    result = collections.OrderedDict([(typ, []) for typ in ('video', 'audio', 'sub')])\n",
    "    for typ, info in parse_streams(info):\n",
    "        result[typ].append(info)\n",
    "    return result.values()\n"
   ]
  },
  {
   "cell_type": "code",
   "execution_count": 141,
   "metadata": {},
   "outputs": [
    {
     "data": {
      "text/plain": [
       "1"
      ]
     },
     "execution_count": 141,
     "metadata": {},
     "output_type": "execute_result"
    }
   ],
   "source": [
    "m = (MkvInfo(filename))\n",
    "m.audio_streams"
   ]
  },
  {
   "cell_type": "code",
   "execution_count": 87,
   "metadata": {},
   "outputs": [
    {
     "ename": "TypeError",
     "evalue": "unsupported type for timedelta microseconds component: str",
     "traceback": [
      "\u001b[1;31m---------------------------------------------------------------------------\u001b[0m",
      "\u001b[1;31mTypeError\u001b[0m                                 Traceback (most recent call last)",
      "\u001b[1;32m<ipython-input-87-3b4deb7f4629>\u001b[0m in \u001b[0;36m<module>\u001b[1;34m()\u001b[0m\n\u001b[1;32m----> 1\u001b[1;33m \u001b[0mdatetime\u001b[0m\u001b[1;33m.\u001b[0m\u001b[0mtimedelta\u001b[0m\u001b[1;33m(\u001b[0m\u001b[1;33m*\u001b[0m\u001b[1;33m(\u001b[0m\u001b[1;34m'0:33:31.480000'\u001b[0m\u001b[1;33m.\u001b[0m\u001b[0msplit\u001b[0m\u001b[1;33m(\u001b[0m\u001b[1;34m'.'\u001b[0m\u001b[1;33m)\u001b[0m\u001b[1;33m[\u001b[0m\u001b[1;36m0\u001b[0m\u001b[1;33m]\u001b[0m\u001b[1;33m.\u001b[0m\u001b[0msplit\u001b[0m\u001b[1;33m(\u001b[0m\u001b[1;34m':'\u001b[0m\u001b[1;33m)\u001b[0m\u001b[1;33m)\u001b[0m\u001b[1;33m)\u001b[0m\u001b[1;33m\u001b[0m\u001b[0m\n\u001b[0m",
      "\u001b[1;31mTypeError\u001b[0m: unsupported type for timedelta microseconds component: str"
     ],
     "output_type": "error"
    }
   ],
   "source": [
    "datetime.timedelta(*(int(i)'0:33:31.480000'.split('.')[0].split(':')))"
   ]
  },
  {
   "cell_type": "code",
   "execution_count": 96,
   "metadata": {},
   "outputs": [
    {
     "data": {
      "text/plain": [
       "0"
      ]
     },
     "execution_count": 96,
     "metadata": {},
     "output_type": "execute_result"
    }
   ],
   "source": [
    "datetime.datetime.strptime('0:33:31.480000', '%X.%f').hour"
   ]
  },
  {
   "cell_type": "code",
   "execution_count": 86,
   "metadata": {},
   "outputs": [
    {
     "data": {
      "text/plain": [
       "['0', '33', '31']"
      ]
     },
     "execution_count": 86,
     "metadata": {},
     "output_type": "execute_result"
    }
   ],
   "source": [
    "('0:33:31.480000'.split('.')[0].split(':'))"
   ]
  },
  {
   "cell_type": "code",
   "execution_count": 14,
   "metadata": {
    "collapsed": true
   },
   "outputs": [],
   "source": [
    "data_dir = Path(r'Y:\\\\')"
   ]
  },
  {
   "cell_type": "code",
   "execution_count": 22,
   "metadata": {
    "collapsed": true
   },
   "outputs": [],
   "source": [
    "from pprint import pprint"
   ]
  },
  {
   "cell_type": "code",
   "execution_count": 145,
   "metadata": {},
   "outputs": [
    {
     "name": "stdout",
     "output_type": "stream",
     "text": [
      "Y:\\West Side Story (1961)\\West Side Story (1961).mkv: contains 2 audio streams\n",
      "Y:\\3 -10 to Yuma (2007)\\3 -10 to Yuma (2007).mkv: contains 2 audio streams\n",
      "Y:\\Ben-Hur (1959)\\Ben-Hur (1959).mkv: contains 2 audio streams\n",
      "Y:\\Ben-Hur (1959)\\Ben Hur-disc2.mkv: contains 2 audio streams\n",
      "Y:\\The Lord of the Rings Collection\\The Lord of the Rings - The Two Towers (2002)\\The Lord of the Rings - The Two Towers (2002).mkv: contains 2 audio streams\n",
      "Y:\\The Lord of the Rings Collection\\The Lord of the Rings - The Fellowship of the Ring (2001)\\The Lord of the Rings - The Fellowship of the Ring (2001).mkv: contains 2 audio streams\n",
      "Y:\\The Lord of the Rings Collection\\The Lord of the Rings - The Return of the King (2003)\\The Lord of the Rings - The Return of the King (2003).mkv: contains 2 audio streams\n",
      "Y:\\C'est arrivé pres de chez vous (1992)\\C'est arrivé pres de chez vous (1992).mkv: contains 1 audio streams\n",
      "Y:\\Fight Club (1999)\\Fight Club (1999).mkv: contains 2 audio streams\n",
      "Y:\\Walk the Line (2005)\\Walk the Line (2005).mkv: contains 2 audio streams\n",
      "Y:\\There Will Be Blood (2007)\\There Will Be Blood (2007).mkv: contains 2 audio streams\n",
      "Y:\\Taxi Driver (1976)\\Taxi Driver (1976).mkv: contains 2 audio streams\n",
      "Y:\\The Hidden Fortress (1958)\\The Hidden Fortress (1958).mkv: contains 1 audio streams\n",
      "Y:\\Cars Collection\\Cars (2006)\\Cars (2006).mkv: contains 2 audio streams\n",
      "Y:\\The Shining (1980)\\The Shining (1980).mkv: contains 1 audio streams\n",
      "Y:\\Waltz with Bashir (2008)\\Waltz with Bashir (2008).mkv: contains 2 audio streams\n",
      "Y:\\Eyes Wide Shut (1999)\\Eyes Wide Shut (1999).mkv: contains 1 audio streams\n",
      "Y:\\Dog Day Afternoon (1975)\\Dog Day Afternoon (1975).mkv: contains 1 audio streams\n",
      "Y:\\Seven Samurai (1954)\\Seven Samurai (1954).mkv: contains 1 audio streams\n",
      "Y:\\American Gangster (2007)\\American Gangster (2007).mkv: contains 2 audio streams\n",
      "Y:\\The Great Gatsby (2013)\\The Great Gatsby (2013).mkv: contains 2 audio streams\n",
      "Y:\\Full Metal Jacket (1987)\\Full Metal Jacket (1987).mkv: contains 1 audio streams\n",
      "Y:\\Steve + Sky (2004)\\Steve + Sky (2004).mkv: contains 2 audio streams\n",
      "Y:\\Spring, Summer, Fall, Winter... and Spring (2003)\\Spring, Summer, Fall, Winter... and Spring (2003).mkv: contains 2 audio streams\n",
      "Y:\\Clint Eastwood's Iwo Jima Collection\\Flags of Our Fathers (2006)\\Flags of Our Fathers (2006).mkv: contains 2 audio streams\n",
      "Y:\\Se7en (1995)\\Se7en (1995).mkv: contains 3 audio streams\n",
      "Y:\\Ratatouille (2007)\\Ratatouille (2007).mkv: contains 2 audio streams\n",
      "Y:\\House of Flying Daggers (2004)\\House of Flying Daggers (2004).mkv: contains 2 audio streams\n",
      "Y:\\Romeo + Juliet (1996)\\Romeo + Juliet (1996).mkv: contains 2 audio streams\n",
      "Y:\\Apocalypse Now (1979)\\Apocalypse Now (1979).mkv: contains 2 audio streams\n",
      "Y:\\Sanjuro (1962)\\Sanjuro (1962).mkv: contains 1 audio streams\n",
      "Y:\\The Wolf of Wall Street (2013)\\The Wolf of Wall Street (2013).mkv: contains 2 audio streams\n",
      "Y:\\Carlito's Way (1993)\\Carlito's Way (1993).mkv: contains 2 audio streams\n",
      "Y:\\Yojimbo (1961)\\Yojimbo (1961).mkv: contains 1 audio streams\n",
      "Y:\\Scarface (1983)\\Scarface (1983).mkv: contains 2 audio streams\n",
      "Y:\\Ice Age Collectie\\Ice Age 3 - Dawn of the Dinosaurs (2009)\\Ice Age 3 - Dawn of the Dinosaurs (2009).mkv: contains 5 audio streams\n",
      "Y:\\Ice Age Collectie\\Ice Age (2002)\\Ice Age (2002).mkv: contains 5 audio streams\n",
      "Y:\\Ice Age Collectie\\Ice Age 4 - Continental Drift (2012)\\Ice Age 4 - Continental Drift (2012).mkv: contains 5 audio streams\n",
      "Y:\\Ice Age Collectie\\Ice Age 2 - The Meltdown (2006)\\Ice Age 2 - The Meltdown (2006).mkv: contains 5 audio streams\n",
      "Y:\\The Hobbit Collection\\The Hobbit - An Unexpected Journey (2012)\\The Hobbit - An Unexpected Journey (2012).mkv: contains 3 audio streams\n",
      "Y:\\The Hobbit Collection\\The Hobbit - The Battle of the Five Armies (2014)\\The Hobbit - The Battle of the Five Armies (2014).mkv: contains 3 audio streams\n",
      "Y:\\The Hobbit Collection\\The Hobbit - The Desolation of Smaug (2013)\\The Hobbit - The Desolation of Smaug (2013).mkv: contains 3 audio streams\n",
      "Y:\\Finding Nemo Collectie\\Finding Nemo (2003)\\Finding Nemo (2003).mkv: contains 4 audio streams\n",
      "Y:\\Cleopatra (1963)\\Cleopatra (1963).mkv: contains 2 audio streams\n",
      "Y:\\The Man With No Name Collection\\A Fistful of Dollars (1964)\\A Fistful of Dollars (1964).mkv: contains 2 audio streams\n",
      "Y:\\The Man With No Name Collection\\For a Few Dollars More (1965)\\For a Few Dollars More (1965).mkv: contains 1 audio streams\n",
      "Y:\\The Man With No Name Collection\\The Good, the Bad and the Ugly (1966)\\The Good, the Bad and the Ugly (1966).mkv: contains 2 audio streams\n",
      "Y:\\Happy Feet Collection\\Happy Feet (2006)\\Happy Feet (2006).mkv: contains 4 audio streams\n",
      "Y:\\Nosferatu (1922)\\Nosferatu (1922).mkv: contains 2 audio streams\n",
      "Y:\\V for Vendetta (2005)\\V for Vendetta (2005).mkv: contains 3 audio streams\n",
      "Y:\\The Matrix Collection\\The Matrix (1999)\\The Matrix (1999).mkv: contains 3 audio streams\n",
      "Y:\\The Matrix Collection\\The Matrix Revolutions (2003)\\The Matrix Revolutions (2003).mkv: contains 3 audio streams\n",
      "Y:\\The Matrix Collection\\The Matrix Reloaded (2003)\\The Matrix Reloaded (2003).mkv: contains 3 audio streams\n",
      "Y:\\Monty Python\\Monty Python's The Meaning of Life (1983)\\Monty Python's The Meaning of Life (1983).mkv: contains 1 audio streams\n",
      "Y:\\Monty Python\\Monty Python's Life of Brian (1979)\\Monty Python's Life of Brian (1979).mkv: contains 2 audio streams\n",
      "Y:\\Monty Python\\Monty Python Live at the Hollywood Bowl (1982)\\Monty Python Live at the Hollywood Bowl (1982).mkv: contains 1 audio streams\n",
      "Y:\\Meeting People Is Easy (1998)\\Meeting People Is Easy (1998).mkv: contains 2 audio streams\n",
      "Y:\\Paths of Glory (1957)\\Paths of Glory (1957).mkv: contains 1 audio streams\n",
      "Y:\\Lolita (1962)\\Lolita (1962).mkv: contains 2 audio streams\n",
      "Y:\\Madagascar Collection\\Madagascar (2005)\\Madagascar (2005).mkv: contains 5 audio streams\n",
      "Y:\\Madagascar Collection\\Madagascar 3 - Europe's Most Wanted (2012)\\Madagascar 3 - Europe's Most Wanted (2012).mkv: contains 5 audio streams\n",
      "Y:\\Madagascar Collection\\Madagascar 2 - Escape 2 Africa (2008)\\Madagascar 2 - Escape 2 Africa (2008).mkv: contains 5 audio streams\n",
      "Y:\\Throne of Blood (1957)\\Throne of Blood (1957).mkv: contains 1 audio streams\n",
      "Y:\\Kommil Foo - Breken (2012)\\Kommil Foo - Breken (2012).mkv: contains 1 audio streams\n",
      "Y:\\Finding Nemo Collection\\Finding Dory (2016)\\Finding Dory (2016).mkv: contains 2 audio streams\n",
      "Y:\\Crouching Tiger, Hidden Dragon (Collection)\\Crouching Tiger, Hidden Dragon (2000)\\Crouching Tiger, Hidden Dragon (2000).mkv: contains 2 audio streams\n",
      "Y:\\Magnolia (1999)\\Magnolia (1999).mkv: contains 2 audio streams\n",
      "Y:\\The Hannibal Lecter Collection\\The Silence of the Lambs (1991)\\The Silence of the Lambs (1991).mkv: contains 2 audio streams\n",
      "Y:\\Dirty Dancing Collection\\Dirty Dancing - Havana Nights (2004)\\Dirty Dancing - Havana Nights (2004).mkv: contains 2 audio streams\n",
      "Y:\\The Great Escape (1963)\\The Great Escape (1963).mkv: contains 2 audio streams\n",
      "Y:\\Moulin Rouge! (2001)\\Moulin Rouge! (2001).mkv: contains 2 audio streams\n",
      "Y:\\The Dark Knight Collection\\Batman Begins (2005)\\Batman Begins (2005).mkv: contains 1 audio streams\n",
      "Y:\\The Dark Knight Collection\\The Dark Knight (2008)\\The Dark Knight (2008).mkv: contains 2 audio streams\n",
      "Y:\\The Dark Knight Collection\\The Dark Knight Rises (2012)\\The Dark Knight Rises (2012).mkv: contains 2 audio streams\n",
      "Y:\\Queen - Rock Montreal (1981)\\Queen - Rock Montreal (1981).mkv: contains 2 audio streams\n",
      "Y:\\WALL·E (2008)\\WALL·E (2008).mkv: contains 4 audio streams\n",
      "Y:\\Sin City Collection\\Sin City 2 - A Dame to Kill For (2014)\\Sin City 2 - A Dame to Kill For (2014).mkv: contains 3 audio streams\n",
      "Y:\\Inglourious Basterds (2009)\\Inglourious Basterds (2009).mkv: contains 2 audio streams\n",
      "Y:\\Monsters, Inc. Collection\\Monsters, Inc. (2001)\\Monsters, Inc. (2001).mkv: contains 4 audio streams\n",
      "Y:\\Django Unchained (2012)\\Django Unchained (2012).mkv: contains 2 audio streams\n",
      "Y:\\A Clockwork Orange (1971)\\A Clockwork Orange (1971).mkv: contains 2 audio streams\n",
      "Y:\\The Broken Circle Breakdown (2012)\\The Broken Circle Breakdown (2012).mkv: contains 2 audio streams\n",
      "Y:\\Inception (2010)\\Inception (2010).mkv: contains 2 audio streams\n",
      "Y:\\Kill Bill Collection\\Kill Bill - Vol. 2 (2004)\\Kill Bill - Vol. 2 (2004).mkv: contains 2 audio streams\n",
      "Y:\\Kill Bill Collection\\Kill Bill - Vol. 1 (2003)\\Kill Bill - Vol. 1 (2003).mkv: contains 2 audio streams\n"
     ]
    },
    {
     "name": "stdout",
     "output_type": "stream",
     "text": [
      "Y:\\300 Collection\\300 (2006)\\300 (2006).mkv: contains 2 audio streams\n",
      "Y:\\Jungle Boek Collectie\\The Jungle Book (1967)\\The Jungle Book (1967).mkv: contains 5 audio streams\n",
      "Y:\\Shakespeare in Love (1998)\\Shakespeare in Love (1998).mkv: contains 2 audio streams\n",
      "Y:\\Mulholland Drive (2001)\\Mulholland Drive (2001).mkv: contains 2 audio streams\n",
      "Y:\\9 (2009)\\9 (2009).mkv: contains 2 audio streams\n",
      "Y:\\The Space Odyssey Series\\2001 - A Space Odyssey (1968)\\2001 - A Space Odyssey (1968).mkv: contains 1 audio streams\n",
      "Y:\\Once Upon a Time in America (1984)\\Once Upon a Time in America (1984).mkv: contains 2 audio streams\n",
      "Y:\\Barry Lyndon (1975)\\Barry Lyndon (1975).mkv: contains 2 audio streams\n",
      "Y:\\Dr. Strangelove or - How I Learned to Stop Worrying and Love the Bomb (1964)\\Dr. Strangelove or - How I Learned to Stop Worrying and Love the Bomb (1964).mkv: contains 1 audio streams\n",
      "Y:\\Blade Runner (1982)\\Blade Runner (1982).mkv: contains 2 audio streams\n",
      "Y:\\Big Fish (2003)\\Big Fish (2003).mkv: contains 2 audio streams\n",
      "Y:\\Star Trek - Alternate Reality Collection\\Star Trek Into Darkness (2013)\\Star Trek Into Darkness (2013).mkv: contains 2 audio streams\n",
      "Y:\\Metropolis (1927)\\Metropolis (1927).mkv: contains 2 audio streams\n",
      "Y:\\The Piano (1993)\\The Piano (1993).mkv: contains 2 audio streams\n",
      "Y:\\Casino (1995)\\Casino (1995).mkv: contains 2 audio streams\n",
      "Y:\\Radiohead - TKOL -  Live From the Basement (2011)\\Radiohead - TKOL -  Live From the Basement (2011).mkv: contains 2 audio streams\n",
      "Y:\\Le Huitième jour (1996)\\Le Huitième jour (1996).mkv: contains 1 audio streams\n",
      "Y:\\Any Way the Wind Blows (2003)\\Any Way the Wind Blows (2003).mkv: contains 2 audio streams\n",
      "Y:\\Duck, You Sucker (1971)\\Duck, You Sucker (1971).mkv: contains 1 audio streams\n",
      "Y:\\Drive (2011)\\Drive (2011).mkv: contains 2 audio streams\n",
      "Y:\\Dagen zonder lief (2007)\\Dagen zonder lief (2007).mkv: contains 2 audio streams\n",
      "Y:\\Elephant (2003)\\Elephant (2003).mkv: contains 2 audio streams\n",
      "Y:\\Black Swan (2010)\\Black Swan (2010).mkv: contains 2 audio streams\n",
      "Y:\\The Godfather Collection\\The Godfather - Part II (1974)\\The Godfather - Part II (1974).mkv: contains 1 audio streams\n",
      "Y:\\The Godfather Collection\\The Godfather (1972)\\The Godfather (1972).mkv: contains 1 audio streams\n",
      "Y:\\The Godfather Collection\\The Godfather - Part III (1990)\\The Godfather - Part III (1990).mkv: contains 1 audio streams\n",
      "Y:\\James Bond Collection\\Skyfall (2012)\\Skyfall (2012).mkv: contains 3 audio streams\n",
      "Y:\\James Bond Collection\\Quantum of Solace (2008)\\Quantum of Solace (2008).mkv: contains 3 audio streams\n",
      "Y:\\James Bond Collection\\Casino Royale (2006)\\Casino Royale (2006).mkv: contains 3 audio streams\n"
     ]
    }
   ],
   "source": [
    "mkv_files = data_dir.glob('**/*.mkv')\n",
    "with open('mkv_info2.txt', 'w', encoding='utf8') as output_file:\n",
    "    for mkvfile in mkv_files:\n",
    "#         print(mkvfile)\n",
    "        m = MkvInfo(mkvfile)\n",
    "        s = m.audio_streams\n",
    "        print(f'{str(mkvfile)}: contains {m.audio_streams} audio streams')\n",
    "#         pprint(m, output_file)\n",
    "#         print('-' * 6, file=output_file)"
   ]
  },
  {
   "cell_type": "code",
   "execution_count": null,
   "metadata": {
    "collapsed": true
   },
   "outputs": [],
   "source": []
  }
 ],
 "metadata": {
  "kernelspec": {
   "display_name": "Python [conda env:new_python36]",
   "language": "python",
   "name": "conda-env-new_python36-py"
  },
  "language_info": {
   "codemirror_mode": {
    "name": "ipython",
    "version": 3
   },
   "file_extension": ".py",
   "mimetype": "text/x-python",
   "name": "python",
   "nbconvert_exporter": "python",
   "pygments_lexer": "ipython3",
   "version": "3.6.1"
  },
  "toc": {
   "colors": {
    "hover_highlight": "#DAA520",
    "navigate_num": "#000000",
    "navigate_text": "#333333",
    "running_highlight": "#FF0000",
    "selected_highlight": "#FFD700",
    "sidebar_border": "#EEEEEE",
    "wrapper_background": "#FFFFFF"
   },
   "moveMenuLeft": true,
   "nav_menu": {
    "height": "12px",
    "width": "252px"
   },
   "navigate_menu": true,
   "number_sections": true,
   "sideBar": true,
   "threshold": 4.0,
   "toc_cell": false,
   "toc_section_display": "block",
   "toc_window_display": false,
   "widenNotebook": false
  }
 },
 "nbformat": 4,
 "nbformat_minor": 2
}
